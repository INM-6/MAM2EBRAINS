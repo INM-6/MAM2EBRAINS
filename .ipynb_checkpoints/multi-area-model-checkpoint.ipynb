{
 "cells": [
  {
   "cell_type": "markdown",
   "id": "b1331599",
   "metadata": {},
   "source": [
    "# Down-scaled multi-area model"
   ]
  },
  {
   "cell_type": "markdown",
   "id": "3e163b35-5330-48ca-8c7e-9e0a884520ca",
   "metadata": {},
   "source": [
    "## Import dependencies"
   ]
  },
  {
   "cell_type": "code",
   "execution_count": null,
   "id": "96517739",
   "metadata": {},
   "outputs": [],
   "source": [
    "%matplotlib inline\n",
    "import matplotlib.pyplot as plt\n",
    "import numpy as np\n",
    "import os"
   ]
  },
  {
   "cell_type": "code",
   "execution_count": null,
   "id": "7e07b0d0",
   "metadata": {},
   "outputs": [],
   "source": [
    "!pip install nested_dict dicthash"
   ]
  },
  {
   "cell_type": "code",
   "execution_count": 7,
   "id": "1d440c07-9b69-4e52-8573-26b13493bc5a",
   "metadata": {},
   "outputs": [
    {
     "data": {
      "text/html": [
       "<style>\n",
       "table {float:left}\n",
       "</style>\n"
      ],
      "text/plain": [
       "<IPython.core.display.HTML object>"
      ]
     },
     "metadata": {},
     "output_type": "display_data"
    }
   ],
   "source": [
    "%%html\n",
    "<style>\n",
    "table {float:left}\n",
    "</style>"
   ]
  },
  {
   "cell_type": "markdown",
   "id": "98555af1-a5c5-4db6-85dc-6d07e40f38cc",
   "metadata": {},
   "source": [
    "## Create config file"
   ]
  },
  {
   "cell_type": "code",
   "execution_count": null,
   "id": "72c170e4",
   "metadata": {},
   "outputs": [],
   "source": [
    "with open('config.py', 'w') as fp:\n",
    "    fp.write(\n",
    "'''import os\n",
    "base_path = os.path.abspath(\".\")\n",
    "data_path = os.path.abspath(\"simulations\")\n",
    "jobscript_template = \"python {base_path}/run_simulation.py {label}\"\n",
    "submit_cmd = \"bash -c\"\n",
    "''')"
   ]
  },
  {
   "cell_type": "code",
   "execution_count": null,
   "id": "2784f76b",
   "metadata": {},
   "outputs": [],
   "source": [
    "from multiarea_model import MultiAreaModel"
   ]
  },
  {
   "cell_type": "markdown",
   "id": "df83f5ea-1c4b-44d3-9926-01786aa46e14",
   "metadata": {
    "tags": []
   },
   "source": [
    "## Specify paramters of model"
   ]
  },
  {
   "cell_type": "markdown",
   "id": "2cedd26b",
   "metadata": {
    "tags": []
   },
   "source": [
    "### 1. Scaling parameter\n",
    "**Scaling parameter** (scale_down_to) is the parameter defines the the ratio of the full scale multi-area model being down-scaled to a model with fewer neurons and indegrees so as to be simulated on machines with lower computational ability and the simulation results can be obtained in relative shorter period of time.<br> <br> \n",
    "Neurons and indegrees are both scaled down to 0.5%, where the model can usually be simulated on a local machine.<br> **Warning: This will not yield reasonable dynamical results from the network and is only meant to demonstrate the simulation workflow.**"
   ]
  },
  {
   "cell_type": "code",
   "execution_count": null,
   "id": "e940bb6b",
   "metadata": {},
   "outputs": [],
   "source": [
    "scale_down_to = 0.005"
   ]
  },
  {
   "cell_type": "markdown",
   "id": "d53f1eab",
   "metadata": {},
   "source": [
    "### 2. Model and simulation parameters"
   ]
  },
  {
   "cell_type": "markdown",
   "id": "14bac1ce-4ba0-47ec-84b2-9d3c72bc96ec",
   "metadata": {},
   "source": [
    "#### 2.1 Connection parameters (conn_params)"
   ]
  },
  {
   "cell_type": "markdown",
   "id": "41d80271-f60e-49f4-9759-f8ad26097b2d",
   "metadata": {},
   "source": [
    "| Parameter | Parameter description | Variable                    | Value              | Value description |\n",
    "|:---------:|:----------------------|:---------------------------:|:------------------:|:------------------|\n",
    "|           |                       | replace_non_simulated_areas | 'het_poisson_stat' |                   |\n",
    "|           |                       | g                           | -11.               |                   |\n",
    "|           |                       | K_stable                    | 'K_stable.npy'     |                   |\n",
    "|           |                       | fac_nu_ext_TH               | 1.2                |                   |\n",
    "|           |                       | fac_nu_ext_5E               | 1.125              |                   |\n",
    "|           |                       | fac_nu_ext_6E               | 1.41666667         |                   |\n",
    "|           |                       | av_indegree_V1              | 3950.              |                   |"
   ]
  },
  {
   "cell_type": "code",
   "execution_count": null,
   "id": "7af3a191",
   "metadata": {},
   "outputs": [],
   "source": [
    "conn_params = {'replace_non_simulated_areas': 'het_poisson_stat',\n",
    "               'g': -11.,\n",
    "               \n",
    "               'K_stable': 'K_stable.npy',\n",
    "               'fac_nu_ext_TH': 1.2,\n",
    "               'fac_nu_ext_5E': 1.125,\n",
    "               'fac_nu_ext_6E': 1.41666667,\n",
    "               'av_indegree_V1': 3950.}"
   ]
  },
  {
   "cell_type": "markdown",
   "id": "1688ef55-2fdb-4800-97af-7ea62442c684",
   "metadata": {},
   "source": [
    "#### 2.2 Input parameters (input_params)"
   ]
  },
  {
   "cell_type": "markdown",
   "id": "5127920c-2a89-42d0-9d87-889f7b7474d9",
   "metadata": {},
   "source": [
    "| Parameter | Parameter description | Variable                      | Value                | Value description |\n",
    "|:---------:|:----------------------|:-----------------------------:|:--------------------:|:------------------|\n",
    "|           |                       | rate_ext                      |      10.             |                   |"
   ]
  },
  {
   "cell_type": "code",
   "execution_count": null,
   "id": "2195cddb-bd82-47a8-ba74-cf0169a6801d",
   "metadata": {},
   "outputs": [],
   "source": [
    "input_params = {'rate_ext': 10.}"
   ]
  },
  {
   "cell_type": "markdown",
   "id": "aefa84c8-baaa-4afa-96c6-5d57d174b286",
   "metadata": {},
   "source": [
    "#### 2.3 Neuron parameters (neuron_params)"
   ]
  },
  {
   "cell_type": "markdown",
   "id": "ab5eb287-e638-401f-9e2c-892f88c3ee90",
   "metadata": {},
   "source": [
    "| Parameter | Parameter description | Variable                    | Value              | Value description |\n",
    "|:---------:|:----------------------|:---------------------------:|:------------------:|:------------------|\n",
    "|           |                       | V0_mean                     | -150.              |                   |\n",
    "|           |                       | V0_sd                       | 50.                |                   |"
   ]
  },
  {
   "cell_type": "code",
   "execution_count": null,
   "id": "f69ad836-70b8-4ebe-b46a-25f48dc3ca7c",
   "metadata": {},
   "outputs": [],
   "source": [
    "neuron_params = {'V0_mean': -150.,\n",
    "                 'V0_sd': 50.}"
   ]
  },
  {
   "cell_type": "markdown",
   "id": "cdb50fb3-4bb9-446a-ab1c-d008b7e5bfa4",
   "metadata": {},
   "source": [
    "#### 2.4 Network parameters (network_params)"
   ]
  },
  {
   "cell_type": "markdown",
   "id": "3e437aca-1fd0-4296-a0f6-a346b1319903",
   "metadata": {},
   "source": [
    "| Parameter | Parameter description | Variable              | Value                         | Value description |\n",
    "|:---------:|:----------------------|:---------------------:|:-----------------------------:|:------------------|\n",
    "|           |                       | N_scaling             | scale_down_to                 |                   |\n",
    "|           |                       | K_scaling             | scale_down_to                 |                   |\n",
    "|           |                       | fullscale_rates       | 'tests/fullscale_rates.json'  |                   |\n",
    "|           |                       | input_params          | input_params                  |                   |\n",
    "|           |                       | connection_params     | conn_params                   |                   |\n",
    "|           |                       | neuron_params         | neuron_params                 |                   |"
   ]
  },
  {
   "cell_type": "code",
   "execution_count": null,
   "id": "0aa9a9bf-b95d-4643-82a0-e29a49bb58df",
   "metadata": {},
   "outputs": [],
   "source": [
    "network_params = {'N_scaling': scale_down_to,\n",
    "                  'K_scaling': scale_down_to,\n",
    "                  'fullscale_rates': 'tests/fullscale_rates.json',\n",
    "                  'input_params': input_params,\n",
    "                  'connection_params': conn_params,\n",
    "                  'neuron_params': neuron_params}"
   ]
  },
  {
   "cell_type": "markdown",
   "id": "a0730f70-ed9b-4664-b677-3dda965a01ef",
   "metadata": {},
   "source": [
    "### 3. Simulation paramters (sim_params)"
   ]
  },
  {
   "cell_type": "markdown",
   "id": "c989ee79-fa3d-405c-a1bf-da8ec884d878",
   "metadata": {},
   "source": [
    "| Parameter | Parameter description | Variable             | Value              | Value description |\n",
    "|:---------:|:----------------------|:--------------------:|:------------------:|:------------------|\n",
    "|           |                       |t_sim                 |2000.               |                   |\n",
    "|           |                       |num_processes         |1                   |                   |\n",
    "|           |                       |local_num_threads     |1                   |                   |\n",
    "|           |                       |recording_dict        |input_params        |                   |\n",
    "|           |                       |record_vm             |False               |                   |"
   ]
  },
  {
   "cell_type": "code",
   "execution_count": null,
   "id": "21484ed3-295f-4d06-b757-2969aac429a4",
   "metadata": {},
   "outputs": [],
   "source": [
    "sim_params = {'t_sim': 2000.,\n",
    "              'num_processes': 1,\n",
    "              'local_num_threads': 1,\n",
    "              'recording_dict': {'record_vm': False}}"
   ]
  },
  {
   "cell_type": "markdown",
   "id": "79596d77-c105-45d0-9a57-2d15e31f1189",
   "metadata": {},
   "source": [
    "### 4. Theory paramters (theory_params)"
   ]
  },
  {
   "cell_type": "markdown",
   "id": "18e0deda-1dec-4df8-b994-ef641b3c5aac",
   "metadata": {},
   "source": [
    "| Parameter | Parameter description | Variable              | Value                         | Value description |\n",
    "|:---------:|:----------------------|:---------------------:|:-----------------------------:|:------------------|\n",
    "|           |                       | dt                    | 0.1                           |                   |"
   ]
  },
  {
   "cell_type": "code",
   "execution_count": null,
   "id": "41edb350-36c3-4e19-829e-40d6ca9633a0",
   "metadata": {},
   "outputs": [],
   "source": [
    "theory_params = {'dt': 0.1}"
   ]
  },
  {
   "cell_type": "markdown",
   "id": "de4a6703",
   "metadata": {},
   "source": [
    "## Instantiate a multi-area model, predict firing rates from theroy "
   ]
  },
  {
   "cell_type": "code",
   "execution_count": null,
   "id": "d409be95",
   "metadata": {},
   "outputs": [],
   "source": [
    "M = MultiAreaModel(network_params, simulation=True,\n",
    "                   sim_spec=sim_params,\n",
    "                   theory=True,\n",
    "                   theory_spec=theory_params)"
   ]
  },
  {
   "cell_type": "code",
   "execution_count": null,
   "id": "918d907f",
   "metadata": {},
   "outputs": [],
   "source": [
    "p, r = M.theory.integrate_siegert()\n",
    "print(\"Mean-field theory predicts an average \"\n",
    "      \"rate of {0:.3f} spikes/s across all populations.\".format(np.mean(r[:, -1])))"
   ]
  },
  {
   "cell_type": "markdown",
   "id": "0c1cad59-81d0-4e24-ac33-13c4ca8c6dec",
   "metadata": {},
   "source": [
    "## Run the simulation"
   ]
  },
  {
   "cell_type": "code",
   "execution_count": null,
   "id": "15778e9c",
   "metadata": {},
   "outputs": [],
   "source": [
    "M.simulation.simulate()"
   ]
  },
  {
   "cell_type": "markdown",
   "id": "9be9287d-4891-4b4b-bd19-cfc2ebed02ac",
   "metadata": {},
   "source": [
    "## Load and process simulation results data"
   ]
  },
  {
   "cell_type": "markdown",
   "id": "8726a93d",
   "metadata": {},
   "source": [
    "### 1. Load spike data"
   ]
  },
  {
   "cell_type": "code",
   "execution_count": null,
   "id": "cb8e3edd",
   "metadata": {},
   "outputs": [],
   "source": [
    "data = np.loadtxt(M.simulation.data_dir + '/recordings/' + M.simulation.label + \"-spikes-1-0.dat\", skiprows=3)"
   ]
  },
  {
   "cell_type": "markdown",
   "id": "8793e033",
   "metadata": {},
   "source": [
    "### 2. Compute instantaneous rate per neuron across all populations"
   ]
  },
  {
   "cell_type": "code",
   "execution_count": null,
   "id": "9590223b",
   "metadata": {},
   "outputs": [],
   "source": [
    "tsteps, spikecount = np.unique(data[:,1], return_counts=True)\n",
    "rate = spikecount / M.simulation.params['dt'] * 1e3 / np.sum(M.N_vec)"
   ]
  },
  {
   "cell_type": "markdown",
   "id": "57ff902c-d6ce-4f96-9e4f-8e3e7166ab66",
   "metadata": {},
   "source": [
    "## Simulation results visualization"
   ]
  },
  {
   "cell_type": "markdown",
   "id": "38ddd973",
   "metadata": {},
   "source": [
    "### 1. Instantaneous and mean rate"
   ]
  },
  {
   "cell_type": "code",
   "execution_count": null,
   "id": "bea30fc8",
   "metadata": {},
   "outputs": [],
   "source": [
    "fig, ax = plt.subplots()\n",
    "ax.plot(tsteps, rate)\n",
    "ax.plot(tsteps, np.average(rate)*np.ones(len(tsteps)), label='mean')\n",
    "ax.set_title('instantaneous rate across all populations')\n",
    "ax.set_xlabel('time (ms)')\n",
    "ax.set_ylabel('rate (spikes / s)')\n",
    "ax.set_xlim(0, sim_params['t_sim'])\n",
    "ax.set_ylim(0, 50)\n",
    "ax.legend()"
   ]
  }
 ],
 "metadata": {
  "kernelspec": {
   "display_name": "Python 3 (ipykernel)",
   "language": "python",
   "name": "python3"
  },
  "language_info": {
   "codemirror_mode": {
    "name": "ipython",
    "version": 3
   },
   "file_extension": ".py",
   "mimetype": "text/x-python",
   "name": "python",
   "nbconvert_exporter": "python",
   "pygments_lexer": "ipython3",
   "version": "3.8.10"
  }
 },
 "nbformat": 4,
 "nbformat_minor": 5
}
