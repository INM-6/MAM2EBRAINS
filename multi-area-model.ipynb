{
 "cells": [
  {
   "cell_type": "markdown",
   "id": "b1331599",
   "metadata": {},
   "source": [
    "# Down-scaled multi-area model"
   ]
  },
  {
   "cell_type": "markdown",
   "id": "b952d0ea",
   "metadata": {},
   "source": [
    "#### Notebook structure <a class=\"anchor\" id=\"toc\"></a>\n",
    "* [S0. Configuration](#section_0)\n",
    "* [S1. Paramters specification](#section_1)\n",
    "    * [1.1. Parameters to tune](#section_1_1)\n",
    "    * [1.2. Default parameters](#section_1_2)\n",
    "* [S2. Multi-area model instantiation and simulation](#section_2)\n",
    "    * [2.1. Insantiate a multi-area model](#section_2_1)\n",
    "    * [2.2. Predict firing rates from theory](#section_2_2)\n",
    "    * [2.3. Extract connectivity](#section_2_3)\n",
    "    * [2.4. Run the simulation](#section_2_4)\n",
    "* [S3. Data processing and simulation results analysis](#section_3)\n",
    "* [S4. Simulation results visualization](#section_4) "
   ]
  },
  {
   "cell_type": "markdown",
   "id": "bd3d4b0e",
   "metadata": {},
   "source": [
    "<br>"
   ]
  },
  {
   "cell_type": "markdown",
   "id": "d782e527",
   "metadata": {
    "tags": []
   },
   "source": [
    "## S0. Configuration <a class=\"anchor\" id=\"section_0\"></a>"
   ]
  },
  {
   "cell_type": "code",
   "execution_count": null,
   "id": "96517739",
   "metadata": {},
   "outputs": [],
   "source": [
    "# Import dependencies\n",
    "%matplotlib inline\n",
    "import matplotlib.pyplot as plt\n",
    "import numpy as np\n",
    "import os\n",
    "import nest\n",
    "from IPython.display import display, HTML\n",
    "\n",
    "# Import the MultiAreaModel class\n",
    "from multiarea_model import MultiAreaModel\n",
    "from config import base_path"
   ]
  },
  {
   "cell_type": "code",
   "execution_count": null,
   "id": "2dd47c64",
   "metadata": {},
   "outputs": [],
   "source": [
    "# Create config file\n",
    "with open('config.py', 'w') as fp:\n",
    "    fp.write(\n",
    "'''import os\n",
    "base_path = os.path.abspath(\".\")\n",
    "data_path = os.path.abspath(\"simulations\")\n",
    "jobscript_template = \"python {base_path}/run_simulation.py {label}\"\n",
    "submit_cmd = \"bash -c\"\n",
    "''')"
   ]
  },
  {
   "cell_type": "code",
   "execution_count": null,
   "id": "7e07b0d0",
   "metadata": {},
   "outputs": [],
   "source": [
    "!pip install nested_dict dicthash"
   ]
  },
  {
   "cell_type": "code",
   "execution_count": null,
   "id": "1d440c07-9b69-4e52-8573-26b13493bc5a",
   "metadata": {
    "tags": []
   },
   "outputs": [],
   "source": [
    "# Jupyter notebook display format setting\n",
    "style = \"\"\"\n",
    "<style>\n",
    "table {float:left}\n",
    "</style>\n",
    "\"\"\"\n",
    "display(HTML(style))"
   ]
  },
  {
   "cell_type": "markdown",
   "id": "27160ba8",
   "metadata": {},
   "source": [
    "Go back to [Notebook structure](#toc)"
   ]
  },
  {
   "cell_type": "markdown",
   "id": "565be233",
   "metadata": {},
   "source": [
    "<br>"
   ]
  },
  {
   "cell_type": "markdown",
   "id": "df83f5ea-1c4b-44d3-9926-01786aa46e14",
   "metadata": {
    "tags": []
   },
   "source": [
    "## S1. Paramters specification <a class=\"anchor\" id=\"section_1\"></a>"
   ]
  },
  {
   "cell_type": "markdown",
   "id": "30655817",
   "metadata": {},
   "source": [
    "### 1.1. Parameters to tune <a class=\"anchor\" id=\"section_1_1\"></a>"
   ]
  },
  {
   "cell_type": "markdown",
   "id": "4f67c1ba",
   "metadata": {},
   "source": [
    "|Parameter                         |Variable                    |Value               |Value description  |\n",
    "|:--------------------------------:|:--------------------------:|:------------------:|:------------------|\n",
    "|Scaling factor                    |scale_down_to               |0.005               |$^1$               |\n",
    "|Ground state to metastable state  |cc_weights_factor           |                    |$^2$               |\n",
    "|Replace non-simulated areas       |replace_non_simulated_areas |'het_poisson_stat'  |$^3$               |\n",
    "|Simulation areas                  |sim_areas                   |                    |$^4$               |"
   ]
  },
  {
   "cell_type": "markdown",
   "id": "a2161477",
   "metadata": {},
   "source": [
    "1. Scaling factor (`scale_down_to`) <br>\n",
    "Scaling factor (scale_down_to) is the parameter which defines the the ratio of the full scale multi-area model being down-scaled to a model with fewer neurons and indegrees so as to be simulated on machines with lower computational ability and the simulation results can be obtained within relative shorter period of time.\n",
    "Neurons and indegrees are both scaled down to 0.5%, where the model can usually be simulated on a local machine.<br> \n",
    "**Warning**: This will not yield reasonable dynamical results from the network and is only meant to demonstrate the simulation workflow <br> \n",
    "2. Ground state to metastable state (`cc_weights_factor`) <br>\n",
    "Ground state to metastable state (cc_weights_factor) decides the switch of the model from ground state to metastable state. <br>\n",
    "3. Replace non-simulated areas (`replace_non_simulated_areas`) <br>\n",
    "Replace non-simulated areas (replace_non_simulated_areas) defines how non-simulated areas will be replaced. <br>\n",
    "4. Simulation areas (`simulation_areas`) <br>\n",
    "Simulation areas (simulation_areas) specify the cortical areas included in the simulation process."
   ]
  },
  {
   "cell_type": "code",
   "execution_count": null,
   "id": "60265d52",
   "metadata": {},
   "outputs": [],
   "source": [
    "# Model parameters\n",
    "# Model paramters are most important among all the paramters, it directly affect the model itself and thus have a great impact on the simulation results. Model paramters define the connection, input, neuron, and network charateristics of the model, and therefore fall into four categories: **Connection paramters**, **Input paramters**, **Neuron paramters**, and **Network paramters**.\n",
    "scale_down_to = 0.005 # Change it to 1. for running the fullscale network\n",
    "# Scaling factor for cortico-cortical connections (chi) \n",
    "# This scaling factor controls the cortico-cortical synaptic strength. If it is 1.0 then the inter-area synaptic strength is the same as the intra-areal. This factor changes the network activity from ground to metastable.\n",
    "cc_weights_factor = 1.\n",
    "replace_non_simulated_areas = 'het_poisson_stat'\n",
    "sim_areas = "
   ]
  },
  {
   "cell_type": "markdown",
   "id": "de11b07f",
   "metadata": {},
   "source": [
    "### 1.2. Default parameters <a class=\"anchor\" id=\"section_1_2\"></a>\n",
    "Default parameters ...<br>\n",
    "We try out best not to confuse users with too many parameters. However, if you want to change the default parameters, you can do so by passing a dictionary to the `default_params` argument of the `MultiAreaModel` class."
   ]
  },
  {
   "cell_type": "code",
   "execution_count": null,
   "id": "6e4bed8d",
   "metadata": {},
   "outputs": [],
   "source": [
    "# Connection parameters (conn_params)\n",
    "conn_params = {\n",
    "    # # It defines how non-simulated areas will be replaced\n",
    "    # Whether to replace non-simulated areas by Poisson sources with the same global rate rate_ext ('hom_poisson_stat') or by specific rates ('het_poisson_stat') or by time-varying specific current ('het_current_nonstat'). In the two latter cases, the data to replace the cortico-cortical input is loaded from `replace_cc_input_source`\n",
    "    'replace_non_simulated_areas': 'het_poisson_stat', \n",
    "\n",
    "    'g': -11.,\n",
    "    'K_stable': 'K_stable.npy',\n",
    "    # Increase the external input to 2/3E and 5E in area TH\n",
    "    'fac_nu_ext_TH': 1.2,\n",
    "    # Increase the external Poisson indegree onto 5E\n",
    "    'fac_nu_ext_5E': 1.125,\n",
    "    # Increase the external Poisson indegree onto 6E\n",
    "    'fac_nu_ext_6E': 1.41666667,\n",
    "    # Adjust the average indegree in V1 based on monkey data\n",
    "    'av_indegree_V1': 3950.\n",
    "}\n",
    "\n",
    "# Input parameters (input_params)\n",
    "input_params = {'rate_ext': 10.}\n",
    "\n",
    "# Neuron parameters (neuron_params)\n",
    "neuron_params = {'V0_mean': -150.,\n",
    "                 'V0_sd': 50.}\n",
    "\n",
    "# Network parameters (network_params)\n",
    "network_params = {'N_scaling': scale_down_to,\n",
    "                  'K_scaling': scale_down_to,\n",
    "                  'fullscale_rates': 'tests/fullscale_rates.json',\n",
    "                  'input_params': input_params,\n",
    "                  'connection_params': conn_params,\n",
    "                  'neuron_params': neuron_params}\n",
    "\n",
    "# Simulation parameters (sim_params)\n",
    "sim_params = {'t_sim': 2000.,\n",
    "              'num_processes': 1,\n",
    "              'local_num_threads': 1,\n",
    "              'recording_dict': {'record_vm': False},\n",
    "              'rng_seed': 1} # global random seed\n",
    "\n",
    "# Theory paramters (theory_params)\n",
    "theory_params = {'dt': 0.1}"
   ]
  },
  {
   "cell_type": "markdown",
   "id": "1472e9c5",
   "metadata": {},
   "source": [
    "Go back to [Notebook structure](#toc)"
   ]
  },
  {
   "cell_type": "markdown",
   "id": "c532a861-824f-4713-a311-590aef8b6134",
   "metadata": {},
   "source": [
    "<br>"
   ]
  },
  {
   "cell_type": "markdown",
   "id": "de4a6703",
   "metadata": {},
   "source": [
    "## S2. Multi-area model instantiation and simulation <a class=\"anchor\" id=\"section_2\"></a>"
   ]
  },
  {
   "cell_type": "markdown",
   "id": "1fd58841",
   "metadata": {},
   "source": [
    "### 2.1. Insantiate a multi-area model <a class=\"anchor\" id=\"section_2_1\"></a>"
   ]
  },
  {
   "cell_type": "code",
   "execution_count": null,
   "id": "ab25f9f8",
   "metadata": {},
   "outputs": [],
   "source": [
    "M = MultiAreaModel(network_params, simulation=True,\n",
    "                   sim_spec=sim_params,\n",
    "                   theory=True,\n",
    "                   theory_spec=theory_params)"
   ]
  },
  {
   "cell_type": "markdown",
   "id": "91649c30",
   "metadata": {},
   "source": [
    "### 2.2. Predict firing rates from theory <a class=\"anchor\" id=\"section_2_2\"></a>"
   ]
  },
  {
   "cell_type": "code",
   "execution_count": null,
   "id": "6a7ddf0e",
   "metadata": {},
   "outputs": [],
   "source": [
    "p, r = M.theory.integrate_siegert()\n",
    "print(\"Mean-field theory predicts an average \"\n",
    "      \"rate of {0:.3f} spikes/s across all populations.\".format(np.mean(r[:, -1])))"
   ]
  },
  {
   "cell_type": "markdown",
   "id": "2062ddf3",
   "metadata": {},
   "source": [
    "### 2.3. Extract connectivity <a class=\"anchor\" id=\"section_2_3\"></a>"
   ]
  },
  {
   "cell_type": "markdown",
   "id": "8a7c09e0",
   "metadata": {},
   "source": [
    "The connectivity and neuron numbers are stored in the attributes of the model class. Neuron numbers are stored in `M.N` as a dictionary (and in `M.N_vec` as an array), indegrees in `M.K` as a dictionary (and in `M.K_matrix` as an array). Number of synapses can also be access via `M.synapses` (and in `M.syn_matrix` as an array). <br>\n",
    "\n",
    "**Warning**: memory explosion"
   ]
  },
  {
   "cell_type": "markdown",
   "id": "b7396606",
   "metadata": {},
   "source": [
    "#### 2.3.1 Node indegrees"
   ]
  },
  {
   "cell_type": "code",
   "execution_count": null,
   "id": "6316ac24",
   "metadata": {},
   "outputs": [],
   "source": [
    "# Dictionary of nodes indegrees organized as:\n",
    "# {<source_area>: {<source_pop>: {<target_area>: {<target_pop>: indegree_values}}}}\n",
    "# M.K"
   ]
  },
  {
   "cell_type": "markdown",
   "id": "253a2aba",
   "metadata": {},
   "source": [
    "#### 2.3.2 Synapses"
   ]
  },
  {
   "cell_type": "code",
   "execution_count": null,
   "id": "445a722a",
   "metadata": {},
   "outputs": [],
   "source": [
    "# Dictionary of synapses that target neurons receive, it is organized as:\n",
    "# {<source_area>: {<source_pop>: {<target_area>: {<target_pop>: number_of_synapses}}}}\n",
    "# M.synapses"
   ]
  },
  {
   "cell_type": "markdown",
   "id": "e67f37e9-ec8d-4bb1-bd21-45e966f47ab6",
   "metadata": {},
   "source": [
    "Go back to [Notebook structure](#toc)"
   ]
  },
  {
   "cell_type": "markdown",
   "id": "04894f5e-35ec-4b22-8891-bd7ba86098e9",
   "metadata": {},
   "source": [
    "<br>"
   ]
  },
  {
   "cell_type": "markdown",
   "id": "0c1cad59-81d0-4e24-ac33-13c4ca8c6dec",
   "metadata": {},
   "source": [
    "### 2.4. Run the simulation <a class=\"anchor\" id=\"section_2_4\"></a>"
   ]
  },
  {
   "cell_type": "code",
   "execution_count": null,
   "id": "15778e9c",
   "metadata": {},
   "outputs": [],
   "source": [
    "# run the simulation, depending on the model parameter and downscale ratio, the running time varies largely.\n",
    "M.simulation.simulate()"
   ]
  },
  {
   "cell_type": "markdown",
   "id": "fd6e3232",
   "metadata": {},
   "source": [
    "Go back to [Notebook structure](#toc)"
   ]
  },
  {
   "cell_type": "markdown",
   "id": "4003c5a5-4a6f-49c5-be17-09f1bc68c411",
   "metadata": {},
   "source": [
    "<br>"
   ]
  },
  {
   "cell_type": "markdown",
   "id": "28e071f8",
   "metadata": {},
   "source": [
    "## S3. Data processing and simulation results analysis <a class=\"anchor\" id=\"section_3\"></a>"
   ]
  },
  {
   "cell_type": "markdown",
   "id": "89c7b7cf",
   "metadata": {},
   "source": [
    "The following instructions will work when the `simulate` parameter is set to `True` during the creation of the MultiAreaModel object, and the `M.simulation.simulate()` method is executed."
   ]
  },
  {
   "cell_type": "code",
   "execution_count": null,
   "id": "dc3b1820",
   "metadata": {},
   "outputs": [],
   "source": [
    "# Uncomment the lines in this code cell below to test if the number of synapses created by NEST matches the expected values\n",
    "\n",
    "# \"\"\"\n",
    "# Test if the correct number of synapses has been created.\n",
    "# \"\"\"\n",
    "# print(\"Testing synapse numbers\")\n",
    "# for target_area_name in M.area_list:\n",
    "#     target_area = M.simulation.areas[M.simulation.areas.index(target_area_name)]\n",
    "#     for source_area_name in M.area_list:\n",
    "#         source_area = M.simulation.areas[M.simulation.areas.index(source_area_name)]\n",
    "#         for target_pop in M.structure[target_area.name]:\n",
    "#             target_nodes = target_area.gids[target_pop]\n",
    "#             for source_pop in M.structure[source_area.name]:\n",
    "#                 source_nodes = source_area.gids[source_pop]\n",
    "#                 created_syn = nest.GetConnections(source=source_nodes,\n",
    "#                                                   target=target_nodes)\n",
    "#                 syn = M.synapses[target_area.name][target_pop][source_area.name][source_pop]\n",
    "#                 assert(len(created_syn) == int(syn))"
   ]
  },
  {
   "cell_type": "markdown",
   "id": "57401110",
   "metadata": {},
   "source": [
    "To obtain the connections information, you can extract the lists of connected sources and targets. Moreover, you can access additional synaptic details, such as synaptic weights and delays."
   ]
  },
  {
   "cell_type": "code",
   "execution_count": null,
   "id": "e7eb052e",
   "metadata": {},
   "outputs": [],
   "source": [
    "# conns = nest.GetConnections()\n",
    "# conns_sparse_matrix = conns.get(['source', 'target', 'weight'])\n",
    "\n",
    "# srcs = conns_sparse_matrix['source']\n",
    "# tgts = conns_sparse_matrix['target']\n",
    "# weights = conns_sparse_matrix['weight']"
   ]
  },
  {
   "cell_type": "markdown",
   "id": "ef4b2e4b",
   "metadata": {},
   "source": [
    "You can determine the area and subpopulation to which the neuron ID ranges belong by referring to the file `network_gids.txt`, which is automatically generated during network creation."
   ]
  },
  {
   "cell_type": "code",
   "execution_count": null,
   "id": "902f2800",
   "metadata": {},
   "outputs": [],
   "source": [
    "# # Open the file using a with statement\n",
    "# with open(os.path.join(M.simulation.data_dir,\"recordings/network_gids.txt\"), \"r\") as file:\n",
    "#     # Read the contents of the file\n",
    "#     gids = file.read()\n",
    "\n",
    "# # Print the contents\n",
    "# print(gids)"
   ]
  },
  {
   "cell_type": "markdown",
   "id": "8726a93d",
   "metadata": {},
   "source": [
    "### 1. Load spike data"
   ]
  },
  {
   "cell_type": "code",
   "execution_count": null,
   "id": "cb8e3edd",
   "metadata": {},
   "outputs": [],
   "source": [
    "data = np.loadtxt(M.simulation.data_dir + '/recordings/' + M.simulation.label + \"-spikes-1-0.dat\", skiprows=3)"
   ]
  },
  {
   "cell_type": "markdown",
   "id": "8793e033",
   "metadata": {},
   "source": [
    "### 2. Compute instantaneous rate per neuron across all populations"
   ]
  },
  {
   "cell_type": "code",
   "execution_count": null,
   "id": "9590223b",
   "metadata": {},
   "outputs": [],
   "source": [
    "tsteps, spikecount = np.unique(data[:,1], return_counts=True)\n",
    "rate = spikecount / M.simulation.params['dt'] * 1e3 / np.sum(M.N_vec)"
   ]
  },
  {
   "cell_type": "markdown",
   "id": "b1320ab1",
   "metadata": {},
   "source": [
    "Go back to [Notebook structure](#toc)"
   ]
  },
  {
   "cell_type": "markdown",
   "id": "529b1ade",
   "metadata": {},
   "source": [
    "<br>"
   ]
  },
  {
   "cell_type": "markdown",
   "id": "57ff902c-d6ce-4f96-9e4f-8e3e7166ab66",
   "metadata": {},
   "source": [
    "## S4. Simulation results visualization <a class=\"anchor\" id=\"section_4\"></a>"
   ]
  },
  {
   "cell_type": "markdown",
   "id": "38ddd973",
   "metadata": {},
   "source": [
    "### 4.1. Instantaneous and mean rate"
   ]
  },
  {
   "cell_type": "code",
   "execution_count": null,
   "id": "bea30fc8",
   "metadata": {},
   "outputs": [],
   "source": [
    "fig, ax = plt.subplots()\n",
    "ax.plot(tsteps, rate)\n",
    "ax.plot(tsteps, np.average(rate)*np.ones(len(tsteps)), label='mean')\n",
    "ax.set_title('instantaneous rate across all populations')\n",
    "ax.set_xlabel('time (ms)')\n",
    "ax.set_ylabel('rate (spikes / s)')\n",
    "ax.set_xlim(0, sim_params['t_sim'])\n",
    "ax.set_ylim(0, 50)\n",
    "ax.legend()"
   ]
  },
  {
   "cell_type": "markdown",
   "id": "ae19bcc3",
   "metadata": {},
   "source": [
    "### 4.2 Resting state for single area\n",
    "Raster plot of spiking activity of 3% of the neurons in area V1 (A), V2 (B), and FEF (C). Blue: excitatory neurons, red: inhibitory neurons. (D-F) Spiking statistics across all 32 areas for the respective populations shown as area-averaged box plots. Crosses: medians, boxes: interquartile range (IQR), whiskers extend to the most extremeobservat ions within 1.5×IQR beyond the IQR."
   ]
  },
  {
   "cell_type": "code",
   "execution_count": null,
   "id": "1da18fee",
   "metadata": {},
   "outputs": [],
   "source": [
    "\"\"\"\n",
    "Create raster display of a single area with populations stacked\n",
    "onto each other. Excitatory neurons in blue, inhibitory\n",
    "neurons in red.\n",
    "\n",
    "Parameters\n",
    "----------\n",
    "area : string {area}\n",
    "    Area to be plotted.\n",
    "frac_neurons : float, [0,1]\n",
    "    Fraction of cells to be considered.\n",
    "t_min : float, optional\n",
    "    Minimal time in ms of spikes to be shown. Defaults to 0 ms.\n",
    "t_max : float, optional\n",
    "    Minimal time in ms of spikes to be shown. Defaults to simulation time.\n",
    "output : {'pdf', 'png', 'eps'}, optional\n",
    "    If given, the function stores the plot to a file of the given format.\n",
    "\n",
    "\"\"\"\n",
    "area = 'V1'\n",
    "frac_neurons = 0.03\n",
    "M.analysis.single_dot_display(area,  frac_neurons, t_min=500., t_max='T')\n",
    "\n",
    "area = 'V2'\n",
    "frac_neurons = 0.03\n",
    "M.analysis.single_dot_display(area,  frac_neurons, t_min=500., t_max='T')\n",
    "\n",
    "area = 'FEF'\n",
    "frac_neurons = 0.03\n",
    "M.analysis.single_dot_display(area,  frac_neurons, t_min=500., t_max='T')"
   ]
  },
  {
   "cell_type": "markdown",
   "id": "019d805e",
   "metadata": {},
   "source": [
    "### 4.3 Firing rates for the whole population\n",
    "Population-averaged firing rates"
   ]
  },
  {
   "cell_type": "code",
   "execution_count": null,
   "id": "95c57114",
   "metadata": {},
   "outputs": [],
   "source": [
    "\"\"\"\n",
    "Calculate time-averaged population rates and store them in member pop_rates.\n",
    "If the rates had previously been stored with the same\n",
    "parameters, they are loaded from file.\n",
    "\n",
    "Parameters\n",
    "----------\n",
    "t_min : float, optional\n",
    "    Minimal time in ms of the simulation to take into account\n",
    "    for the calculation. Defaults to 500 ms.\n",
    "t_max : float, optional\n",
    "    Maximal time in ms of the simulation to take into account\n",
    "    for the calculation. Defaults to the simulation time.\n",
    "compute_stat : bool, optional\n",
    "    If set to true, the mean and variance of the population rate\n",
    "    is calculated. Defaults to False.\n",
    "    Caution: Setting to True slows down the computation.\n",
    "areas : list, optional\n",
    "    Which areas to include in the calculcation.\n",
    "    Defaults to all loaded areas.\n",
    "pops : list or {'complete'}, optional\n",
    "    Which populations to include in the calculation.\n",
    "    If set to 'complete', all populations the respective areas\n",
    "    are included. Defaults to 'complete'.\n",
    "\"\"\"\n",
    "M.analysis.create_pop_rates(t_min=1000.)\n",
    "# M.analysis.save()"
   ]
  },
  {
   "cell_type": "markdown",
   "id": "06a595de",
   "metadata": {},
   "source": [
    "### 4.4 Average pairwise correlation coefficients of spiking activity"
   ]
  },
  {
   "cell_type": "markdown",
   "id": "a3847e67",
   "metadata": {},
   "source": [
    "### 4.5 Irregularity measured by revised local variation LvR averaged across neurons"
   ]
  },
  {
   "cell_type": "markdown",
   "id": "90ae8f4c",
   "metadata": {},
   "source": [
    "### 4.6 Time series of population- and area-averaged firing rates.\n",
    "Area-averaged firing rates, shown as raw binned spike histograms with 1ms bin width (gray) and convolved histograms, with aGaussian kernel (black) of optimal width"
   ]
  },
  {
   "cell_type": "code",
   "execution_count": null,
   "id": "bd9d4912",
   "metadata": {},
   "outputs": [],
   "source": [
    "\"\"\"\n",
    "Calculate time series of population- and area-averaged firing rates.\n",
    "Uses ah.pop_rate_time_series.\n",
    "If the rates have previously been stored with the\n",
    "same parameters, they are loaded from file.\n",
    "\n",
    "\n",
    "Parameters\n",
    "----------\n",
    "t_min : float, optional\n",
    "    Minimal time in ms of the simulation to take into account\n",
    "    for the calculation. Defaults to 500 ms.\n",
    "t_max : float, optional\n",
    "    Maximal time in ms of the simulation to take into account\n",
    "    for the calculation. Defaults to the simulation time.\n",
    "areas : list, optional\n",
    "    Which areas to include in the calculcation.\n",
    "    Defaults to all loaded areas.\n",
    "pops : list or {'complete'}, optional\n",
    "    Which populations to include in the calculation.\n",
    "    If set to 'complete', all populations the respective areas\n",
    "    are included. Defaults to 'complete'.\n",
    "kernel : {'gauss_time_window', 'alpha_time_window', 'rect_time_window'}, optional\n",
    "    Specifies the kernel to be convolved with the spike histogram.\n",
    "    Defaults to 'binned', which corresponds to no convolution.\n",
    "resolution: float, optional\n",
    "    Width of the convolution kernel. Specifically it correponds to:\n",
    "    - 'binned' : bin width of the histogram\n",
    "    - 'gauss_time_window' : sigma\n",
    "    - 'alpha_time_window' : time constant of the alpha function\n",
    "    - 'rect_time_window' : width of the moving rectangular function\n",
    "\"\"\"\n",
    "M.analysisi.create_rate_time_series(t_max=1000.)\n",
    "# M.analysis.save()"
   ]
  },
  {
   "cell_type": "markdown",
   "id": "ef74ca3e-98dc-49c9-a4a0-2c640e29b1d9",
   "metadata": {},
   "source": [
    "Go back to [Notebook structure](#toc)"
   ]
  }
 ],
 "metadata": {
  "kernelspec": {
   "display_name": "EBRAINS-23.02",
   "language": "python",
   "name": "ebrains-23.02"
  },
  "language_info": {
   "codemirror_mode": {
    "name": "ipython",
    "version": 3
   },
   "file_extension": ".py",
   "mimetype": "text/x-python",
   "name": "python",
   "nbconvert_exporter": "python",
   "pygments_lexer": "ipython3",
   "version": "3.8.11"
  }
 },
 "nbformat": 4,
 "nbformat_minor": 5
}
