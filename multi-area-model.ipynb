{
 "cells": [
  {
   "cell_type": "code",
   "execution_count": null,
   "id": "7e07b0d0",
   "metadata": {},
   "outputs": [],
   "source": [
    "!pip install nested_dict dicthash"
   ]
  },
  {
   "cell_type": "code",
   "execution_count": null,
   "id": "61e83d47",
   "metadata": {},
   "outputs": [],
   "source": [
    "import numpy as np\n",
    "import os\n",
    "\n",
    "from multiarea_model import MultiAreaModel"
   ]
  },
  {
   "cell_type": "markdown",
   "id": "2cedd26b",
   "metadata": {},
   "source": [
    "# Down-scaled model\n",
    "\n",
    "Neurons and indegrees are both scaled down to 1%.\n",
    "Can usually be simulated on a local machine."
   ]
  },
  {
   "cell_type": "code",
   "execution_count": null,
   "id": "e940bb6b",
   "metadata": {},
   "outputs": [],
   "source": [
    "scale_down_to = 0.005"
   ]
  },
  {
   "cell_type": "markdown",
   "id": "241db524",
   "metadata": {},
   "source": [
    "**Warning: This will not yield reasonable dynamical results from the\n",
    "network and is only meant to demonstrate the simulation workflow.**"
   ]
  },
  {
   "cell_type": "code",
   "execution_count": null,
   "id": "7af3a191",
   "metadata": {},
   "outputs": [],
   "source": [
    "d = {}\n",
    "conn_params = {'replace_non_simulated_areas': 'het_poisson_stat',\n",
    "               'g': -11.,\n",
    "               \n",
    "               'K_stable': 'K_stable.npy',\n",
    "               'fac_nu_ext_TH': 1.2,\n",
    "               'fac_nu_ext_5E': 1.125,\n",
    "               'fac_nu_ext_6E': 1.41666667,\n",
    "               'av_indegree_V1': 3950.}\n",
    "input_params = {'rate_ext': 10.}\n",
    "neuron_params = {'V0_mean': -150.,\n",
    "                 'V0_sd': 50.}\n",
    "network_params = {'N_scaling': scale_down_to,\n",
    "                  'K_scaling': scale_down_to,\n",
    "                  'fullscale_rates': 'tests/fullscale_rates.json',\n",
    "                  'input_params': input_params,\n",
    "                  'connection_params': conn_params,\n",
    "                  'neuron_params': neuron_params}\n",
    "\n",
    "sim_params = {'t_sim': 2000.,\n",
    "              'num_processes': 1,\n",
    "              'local_num_threads': 1,\n",
    "              'recording_dict': {'record_vm': False}}\n",
    "\n",
    "theory_params = {'dt': 0.1}"
   ]
  },
  {
   "cell_type": "code",
   "execution_count": null,
   "id": "d409be95",
   "metadata": {},
   "outputs": [],
   "source": [
    "M = MultiAreaModel(network_params, simulation=True,\n",
    "                   sim_spec=sim_params,\n",
    "                   theory=True,\n",
    "                   theory_spec=theory_params)\n",
    "p, r = M.theory.integrate_siegert()\n",
    "print(\"Mean-field theory predicts an average \"\n",
    "      \"rate of {0:.3f} spikes/s across all populations.\".format(np.mean(r[:, -1])))"
   ]
  },
  {
   "cell_type": "code",
   "execution_count": null,
   "id": "15778e9c",
   "metadata": {},
   "outputs": [],
   "source": [
    "M.simulation.simulate()"
   ]
  },
  {
   "cell_type": "code",
   "execution_count": null,
   "id": "cb8e3edd",
   "metadata": {},
   "outputs": [],
   "source": [
    "data = np.loadtxt(M.simulation.label + \"-spikes-1-0.dat\", skiprows=3)"
   ]
  },
  {
   "cell_type": "code",
   "execution_count": null,
   "id": "84dc3bde",
   "metadata": {},
   "outputs": [],
   "source": [
    "data"
   ]
  },
  {
   "cell_type": "code",
   "execution_count": null,
   "id": "9590223b",
   "metadata": {},
   "outputs": [],
   "source": [
    "tsteps, spikecount = np.unique(data[:,1], return_counts=True)"
   ]
  },
  {
   "cell_type": "code",
   "execution_count": null,
   "id": "0c3fc302",
   "metadata": {},
   "outputs": [],
   "source": [
    "import matplotlib.pyplot as plt"
   ]
  },
  {
   "cell_type": "code",
   "execution_count": null,
   "id": "9f21dd40",
   "metadata": {},
   "outputs": [],
   "source": [
    "fig, ax = plt.subplots()\n",
    "ax.plot(tsteps, spikecount)"
   ]
  },
  {
   "cell_type": "code",
   "execution_count": null,
   "id": "41028d2c",
   "metadata": {},
   "outputs": [],
   "source": [
    "plt.show()"
   ]
  },
  {
   "cell_type": "code",
   "execution_count": null,
   "id": "c6091457",
   "metadata": {},
   "outputs": [],
   "source": [
    "len(spikecount), np.average(spikecount)"
   ]
  },
  {
   "cell_type": "code",
   "execution_count": null,
   "id": "ad2bd7b2",
   "metadata": {},
   "outputs": [],
   "source": [
    "np.average(spikecount[2000:])"
   ]
  }
 ],
 "metadata": {
  "kernelspec": {
   "display_name": "Python 3",
   "language": "python",
   "name": "python3"
  },
  "language_info": {
   "codemirror_mode": {
    "name": "ipython",
    "version": 3
   },
   "file_extension": ".py",
   "mimetype": "text/x-python",
   "name": "python",
   "nbconvert_exporter": "python",
   "pygments_lexer": "ipython3",
   "version": "3.10.0"
  }
 },
 "nbformat": 4,
 "nbformat_minor": 5
}
