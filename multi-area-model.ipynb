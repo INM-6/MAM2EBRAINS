{
 "cells": [
  {
   "cell_type": "markdown",
   "id": "b1331599",
   "metadata": {
    "tags": []
   },
   "source": [
    "# Down-scaled multi-area model"
   ]
  },
  {
   "cell_type": "markdown",
   "id": "b952d0ea",
   "metadata": {
    "tags": []
   },
   "source": [
    "#### Notebook structure <a class=\"anchor\" id=\"toc\"></a>\n",
    "* [S0. Configuration](#section_0)\n",
    "* [S1. Paramters specification](#section_1)\n",
    "    * [1.1. Parameters to tune](#section_1_1)\n",
    "    * [1.2. Default parameters](#section_1_2)\n",
    "* [S2. Multi-area model instantiation and simulation](#section_2)\n",
    "    * [2.1. Insantiate a multi-area model](#section_2_1)\n",
    "    * [2.2. Predict firing rates from theory](#section_2_2)\n",
    "    * [2.3. Extract interarea connectivity](#section_2_3)\n",
    "    * [2.4. Run the simulation](#section_2_4)\n",
    "* [S3. Simulation results validation and connection extraction](#section_3)\n",
    "* [S4. Data loading and processing](#section_4)\n",
    "* [S5. Simulation results visualization](#section_5) \n",
    "    * [5.1. Instantaneous and mean firing rate across all populations](#section_5_1)\n",
    "    * [5.2. Raster plot of spiking activity for single area](#section_5_2)\n",
    "    * [5.3. Population-averaged firing rate](#section_5_3)\n",
    "    * [5.4 Time-averaged population rates](#section_5_4)\n",
    "    * [5.5. Average pairwise correlation coefficients of spiking activity](#section_5_5)\n",
    "    * [5.6. Irregularity of spiking activity](#section_5_6)\n",
    "    * [5.7. Time series of population- and area-averaged firing rates](#section_5_7)"
   ]
  },
  {
   "cell_type": "markdown",
   "id": "bd3d4b0e",
   "metadata": {},
   "source": [
    "<br>"
   ]
  },
  {
   "cell_type": "markdown",
   "id": "d782e527",
   "metadata": {
    "jp-MarkdownHeadingCollapsed": true,
    "tags": []
   },
   "source": [
    "## S0. Configuration <a class=\"anchor\" id=\"section_0\"></a>"
   ]
  },
  {
   "cell_type": "code",
   "execution_count": 1,
   "id": "06e7f341-c226-4782-a913-4868027d7d06",
   "metadata": {
    "tags": []
   },
   "outputs": [],
   "source": [
    "# Create config file\n",
    "with open('config.py', 'w') as fp:\n",
    "    fp.write(\n",
    "'''import os\n",
    "base_path = os.path.abspath(\".\")\n",
    "data_path = os.path.abspath(\"simulations\")\n",
    "jobscript_template = \"python {base_path}/run_simulation.py {label}\"\n",
    "submit_cmd = \"bash -c\"\n",
    "''')"
   ]
  },
  {
   "cell_type": "code",
   "execution_count": 2,
   "id": "96517739",
   "metadata": {
    "tags": []
   },
   "outputs": [
    {
     "name": "stdout",
     "output_type": "stream",
     "text": [
      "\n",
      "              -- N E S T --\n",
      "  Copyright (C) 2004 The NEST Initiative\n",
      "\n",
      " Version: 3.4\n",
      " Built: May 17 2023 20:48:31\n",
      "\n",
      " This program is provided AS IS and comes with\n",
      " NO WARRANTY. See the file LICENSE for details.\n",
      "\n",
      " Problems or suggestions?\n",
      "   Visit https://www.nest-simulator.org\n",
      "\n",
      " Type 'nest.help()' to find out more about NEST.\n",
      "\n"
     ]
    }
   ],
   "source": [
    "# Import dependencies\n",
    "%matplotlib inline\n",
    "import matplotlib.pyplot as plt\n",
    "import numpy as np\n",
    "import os\n",
    "import nest\n",
    "from IPython.display import display, HTML\n",
    "import json\n",
    "\n",
    "# Import the MultiAreaModel class\n",
    "from multiarea_model import MultiAreaModel\n",
    "from multiarea_model import Analysis\n",
    "from config import base_path, data_path\n",
    "import sys\n",
    "sys.path.append('./figures')"
   ]
  },
  {
   "cell_type": "code",
   "execution_count": 3,
   "id": "7e07b0d0",
   "metadata": {
    "tags": []
   },
   "outputs": [
    {
     "name": "stdout",
     "output_type": "stream",
     "text": [
      "Requirement already satisfied: nested_dict in /srv/main-spack-instance-2302/spack/var/spack/environments/ebrains-23-02/.spack-env/._view/6axslmv6jvf4v2nte3uwlayg4vhsjoha/lib/python3.8/site-packages (1.61)\n",
      "Requirement already satisfied: dicthash in /srv/main-spack-instance-2302/spack/var/spack/environments/ebrains-23-02/.spack-env/._view/6axslmv6jvf4v2nte3uwlayg4vhsjoha/lib/python3.8/site-packages (0.0.2)\n",
      "Requirement already satisfied: future in /srv/main-spack-instance-2302/spack/var/spack/environments/ebrains-23-02/.spack-env/._view/6axslmv6jvf4v2nte3uwlayg4vhsjoha/lib/python3.8/site-packages (from dicthash) (0.18.2)\n"
     ]
    }
   ],
   "source": [
    "!pip install nested_dict dicthash"
   ]
  },
  {
   "cell_type": "code",
   "execution_count": 4,
   "id": "1d440c07-9b69-4e52-8573-26b13493bc5a",
   "metadata": {
    "tags": []
   },
   "outputs": [
    {
     "data": {
      "text/html": [
       "\n",
       "<style>\n",
       "table {float:left}\n",
       "</style>\n"
      ],
      "text/plain": [
       "<IPython.core.display.HTML object>"
      ]
     },
     "metadata": {},
     "output_type": "display_data"
    }
   ],
   "source": [
    "# Jupyter notebook display format setting\n",
    "style = \"\"\"\n",
    "<style>\n",
    "table {float:left}\n",
    "</style>\n",
    "\"\"\"\n",
    "display(HTML(style))"
   ]
  },
  {
   "cell_type": "markdown",
   "id": "27160ba8",
   "metadata": {},
   "source": [
    "Go back to [Notebook structure](#toc)"
   ]
  },
  {
   "cell_type": "markdown",
   "id": "565be233",
   "metadata": {},
   "source": [
    "<br>"
   ]
  },
  {
   "cell_type": "markdown",
   "id": "df83f5ea-1c4b-44d3-9926-01786aa46e14",
   "metadata": {
    "jp-MarkdownHeadingCollapsed": true,
    "tags": []
   },
   "source": [
    "## S1. Paramters specification <a class=\"anchor\" id=\"section_1\"></a>"
   ]
  },
  {
   "cell_type": "markdown",
   "id": "30655817",
   "metadata": {},
   "source": [
    "### 1.1. Parameters to tune <a class=\"anchor\" id=\"section_1_1\"></a>"
   ]
  },
  {
   "cell_type": "markdown",
   "id": "4f67c1ba",
   "metadata": {},
   "source": [
    "|Parameter                     |Default value            |Value range/options                                                   |Value assigned      |Description  |\n",
    "|:----------------------------:|:-----------------------:|:--------------------------------------------------------------------:|:------------------:|:-----------:|\n",
    "|scale_down_to                 |1.                       |(0, 1.]                                                               |0.005               |$^1$         |\n",
    "|cc_weights_factor             |1.                       |(0, 1.]                                                               |1.                  |$^2$         |\n",
    "|areas_simulated               |complete_area_list       |All sublists of complete_area_list                                    |complete_area_list  |$^3$         |\n",
    "|replace_non_simulated_areas   |None                     |None, 'hom_poisson_stat', 'het_poisson_stat', 'het_current_nonstat'   |'het_poisson_stat'  |$^4$         |"
   ]
  },
  {
   "cell_type": "markdown",
   "id": "a2161477",
   "metadata": {},
   "source": [
    "1. `scale_down_to` <br>\n",
    "`scale_down_to` is the down-scaling factor which defines the the ratio of the full scale multi-area model being down-scaled to a model with fewer neurons and indegrees so as to be simulated on machines with lower computational ability and the simulation results can be obtained within relative shorter period of time. <br> Its deafualt value if `1.` meaning full scale simulation. <br> In the pre-set downscale version, it's set as `0.005`, where the numer of neurons and indegrees are both scaled down to 0.5% of its full scale amount, where the model can usually be simulated on a local machine. <br> **Warning**: This will not yield reasonable dynamical results from the network and is only meant to demonstrate the simulation workflow <br> \n",
    "2. `cc_weights_factor` <br>\n",
    "This scaling factor controls the cortico-cortical synaptic strength. <br> By default it's set as `1.0`, where the inter-area synaptic strength is the same as the intra-areal. <br> **Important**: This factor changes the network activity from ground state to metastable state. <br>\n",
    "3. `areas_simulated` <br>\n",
    "This parameter specifies the cortical areas included in the simulation process. Its default value is `complete_area_list` meaning all the areas in the complete_area_list will be actually simulated. <br>\n",
    "complete_area_list = ['V1', 'V2', 'VP', 'V3', 'V3A', 'MT', 'V4t', 'V4', 'VOT', 'MSTd', 'PIP', 'PO', 'DP', 'MIP', 'MDP', 'VIP', 'LIP', 'PITv', 'PITd', 'MSTl', 'CITv', 'CITd', 'FEF', 'TF', 'AITv', 'FST', '7a', 'STPp', 'STPa', '46', 'AITd', 'TH'] <br>\n",
    "The value assigned to simulation_areas can be any sublist of the compete_area_list specifying areas a user want to include in his/her simulation. <br>\n",
    "4. `replace_non_simulated_areas` <br>\n",
    "The paramter `replace_non_simulated_areas` defines how non-simulated areas will be replaced. <br> It's set as `None` by default when the parameter areas_simulated is set as full_area_list where all areas will be simulated so that no areas need to be replaced. <br> Other options are: `'hom_poisson_stat'`, `'het_poisson_stat'`, and `'het_current_nonstat'`. `'hom_poisson_stat'` is a manually set parameter which can be tuned. When it's set as 'het_poisson_stat' or 'het_current_nonstat', the data to replace the cortico-cortical input is loaded from 'replace_cc_input_source' which is the firing rates of our full scale simulation results. The differenc between 'het_poisson_stat' and 'het_current_nonstat' is that 'het_poisson_stat' is the mean of the time-series firing rate so that it's static, yet 'het_current_nonstat' is time-varying specific current, which is varying by time. "
   ]
  },
  {
   "cell_type": "code",
   "execution_count": 5,
   "id": "60265d52",
   "metadata": {},
   "outputs": [],
   "source": [
    "# Downscaling factor\n",
    "scale_down_to = 0.005 # Change it to 1. for running the fullscale network\n",
    "\n",
    "# Scaling factor for cortico-cortical connections (chi) \n",
    "cc_weights_factor = 1.\n",
    "\n",
    "# Cortical areas included in the simulation\n",
    "areas_simulated = ['V1', 'V2', 'VP', 'V3', 'V3A', 'MT', 'V4t', 'V4', 'VOT', 'MSTd', 'PIP', 'PO', 'DP', 'MIP', 'MDP', 'VIP', 'LIP', 'PITv', 'PITd', 'MSTl', 'CITv', 'CITd', 'FEF', 'TF', 'AITv', 'FST', '7a', 'STPp', 'STPa', '46', 'AITd', 'TH']\n",
    "\n",
    "# Firing rates used to replace the non-simulated areas\n",
    "replace_non_simulated_areas = 'het_poisson_stat'"
   ]
  },
  {
   "cell_type": "markdown",
   "id": "de11b07f",
   "metadata": {},
   "source": [
    "### 1.2. Default parameters <a class=\"anchor\" id=\"section_1_2\"></a>\n",
    "We try our best not to confuse users with too many parameters. However, if you want to change more parameters and explore the model, you can do so by passing a dictionary to the `default_params` argument of the `MultiAreaModel` class."
   ]
  },
  {
   "cell_type": "code",
   "execution_count": 6,
   "id": "6e4bed8d",
   "metadata": {},
   "outputs": [],
   "source": [
    "# Connection parameters\n",
    "conn_params = {\n",
    "    'replace_non_simulated_areas': 'het_poisson_stat', # Whether to replace non-simulated areas by Poisson sources with the same global rate, by default: None\n",
    "    'g': -11., # It sets the relative inhibitory synaptic strength, by default: -16.\n",
    "    'K_stable': 'K_stable.npy', # Whether to apply the stabilization method of Schuecker, Schmidt et al. (2017), by default: None\n",
    "    'fac_nu_ext_TH': 1.2, # Increase the external input to 2/3E and 5E in area TH\n",
    "    'fac_nu_ext_5E': 1.125, # Increase the external Poisson indegree onto 5E\n",
    "    'fac_nu_ext_6E': 1.41666667, # Increase the external Poisson indegree onto 6E\n",
    "    'av_indegree_V1': 3950. # Adjust the average indegree in V1 based on monkey data\n",
    "}\n",
    "\n",
    "# Input parameters\n",
    "input_params = {\n",
    "    'rate_ext': 10. # Rate of the Poissonian spike generator (in spikes/s)\n",
    "} \n",
    "\n",
    "# Neuron parameters\n",
    "neuron_params = {\n",
    "    'V0_mean': -150., # Mean for the distribution of initial membrane potentials, by default: -100.\n",
    "    'V0_sd': 50.} # Standard deviation for the distribution of initial membrane potentials, by default: 50.\n",
    "\n",
    "# Network parameters\n",
    "network_params = {\n",
    "    'N_scaling': scale_down_to, # Scaling of population sizes, by default: 1.\n",
    "    'K_scaling': scale_down_to, # Scaling of indegrees, by default: 1.\n",
    "    'fullscale_rates': 'tests/fullscale_rates.json', # Absolute path to the file holding full-scale rates for scaling synaptic weights, by default: None\n",
    "    'input_params': input_params, # Input parameters\n",
    "    'connection_params': conn_params, # Connection parameters\n",
    "    'neuron_params': neuron_params # Neuron parameters\n",
    "} \n",
    "\n",
    "# Simulation parameters\n",
    "sim_params = {\n",
    "    'areas_simulated': areas_simulated,\n",
    "    't_sim': 2000., # Simulated time (in ms), by default: 10.0\n",
    "    'num_processes': 1, # The number of MPI processes, by default: 1\n",
    "    'local_num_threads': 1, # The number of threads per MPI process, by default: 1\n",
    "    'recording_dict': {'record_vm': False},\n",
    "    'rng_seed': 1  # global random seed\n",
    "}\n",
    "\n",
    "# Theory paramters (theory_params)\n",
    "theory_params = {\n",
    "    'dt': 0.1 # The time step of the mean-field theory integration, by default: 0.01\n",
    "} "
   ]
  },
  {
   "cell_type": "markdown",
   "id": "1472e9c5",
   "metadata": {},
   "source": [
    "Go back to [Notebook structure](#toc)"
   ]
  },
  {
   "cell_type": "markdown",
   "id": "c532a861-824f-4713-a311-590aef8b6134",
   "metadata": {},
   "source": [
    "<br>"
   ]
  },
  {
   "cell_type": "markdown",
   "id": "de4a6703",
   "metadata": {
    "jp-MarkdownHeadingCollapsed": true,
    "tags": []
   },
   "source": [
    "## S2. Multi-area model instantiation and simulation <a class=\"anchor\" id=\"section_2\"></a>"
   ]
  },
  {
   "cell_type": "markdown",
   "id": "1fd58841",
   "metadata": {
    "tags": []
   },
   "source": [
    "### 2.1. Insantiate a multi-area model <a class=\"anchor\" id=\"section_2_1\"></a>"
   ]
  },
  {
   "cell_type": "code",
   "execution_count": 7,
   "id": "ab25f9f8",
   "metadata": {},
   "outputs": [
    {
     "name": "stdout",
     "output_type": "stream",
     "text": [
      "Initializing network from dictionary.\n",
      "RAND_DATA_LABEL 565\n"
     ]
    },
    {
     "name": "stderr",
     "output_type": "stream",
     "text": [
      "/srv/main-spack-instance-2302/spack/opt/spack/linux-ubuntu20.04-x86_64/gcc-10.3.0/py-numpy-1.21.6-6fewtq7oarp3vtwlxrrcofz5sxwt55s7/lib/python3.8/site-packages/numpy/core/fromnumeric.py:3440: RuntimeWarning:Mean of empty slice.\n",
      "/srv/main-spack-instance-2302/spack/opt/spack/linux-ubuntu20.04-x86_64/gcc-10.3.0/py-numpy-1.21.6-6fewtq7oarp3vtwlxrrcofz5sxwt55s7/lib/python3.8/site-packages/numpy/core/_methods.py:189: RuntimeWarning:invalid value encountered in double_scalars\n",
      "Error in library(\"aod\") : there is no package called ‘aod’\n",
      "Execution halted\n"
     ]
    },
    {
     "name": "stdout",
     "output_type": "stream",
     "text": [
      "No R installation or IndexError, taking hard-coded SLN fit parameters.\n",
      "\n",
      "\n",
      "========================================\n",
      "Customized parameters\n",
      "--------------------\n",
      "{'K_scaling': 0.005,\n",
      " 'N_scaling': 0.005,\n",
      " 'connection_params': {'K_stable': 'K_stable.npy',\n",
      "                       'av_indegree_V1': 3950.0,\n",
      "                       'fac_nu_ext_5E': 1.125,\n",
      "                       'fac_nu_ext_6E': 1.41666667,\n",
      "                       'fac_nu_ext_TH': 1.2,\n",
      "                       'g': -11.0,\n",
      "                       'replace_non_simulated_areas': 'het_poisson_stat'},\n",
      " 'fullscale_rates': 'tests/fullscale_rates.json',\n",
      " 'input_params': {'rate_ext': 10.0},\n",
      " 'neuron_params': {'V0_mean': -150.0, 'V0_sd': 50.0}}\n",
      "========================================\n"
     ]
    },
    {
     "name": "stderr",
     "output_type": "stream",
     "text": [
      "/srv/main-spack-instance-2302/spack/var/spack/environments/ebrains-23-02/.spack-env/view/lib/python3.8/site-packages/dicthash/dicthash.py:47: UserWarning:Float too small for safe conversion tointeger. Rounding down to zero.\n"
     ]
    },
    {
     "name": "stdout",
     "output_type": "stream",
     "text": [
      "Simulation label: 27d81076e6d6e9e591684be053078477\n",
      "Copied files.\n",
      "Initialized simulation class.\n"
     ]
    }
   ],
   "source": [
    "M = MultiAreaModel(network_params, \n",
    "                   simulation=True,\n",
    "                   sim_spec=sim_params,\n",
    "                   theory=True,\n",
    "                   theory_spec=theory_params)"
   ]
  },
  {
   "cell_type": "markdown",
   "id": "91649c30",
   "metadata": {},
   "source": [
    "### 2.2. Predict firing rates from theory <a class=\"anchor\" id=\"section_2_2\"></a>"
   ]
  },
  {
   "cell_type": "code",
   "execution_count": 8,
   "id": "6a7ddf0e",
   "metadata": {},
   "outputs": [
    {
     "name": "stdout",
     "output_type": "stream",
     "text": [
      "Iteration: 0\n",
      "Mean-field theory predicts an average firing rate of 29.588 spikes/s across all populations.\n"
     ]
    }
   ],
   "source": [
    "p, r = M.theory.integrate_siegert()\n",
    "print(\"Mean-field theory predicts an average \"\n",
    "      \"firing rate of {0:.3f} spikes/s across all populations.\".format(np.mean(r[:, -1])))"
   ]
  },
  {
   "cell_type": "markdown",
   "id": "2062ddf3",
   "metadata": {},
   "source": [
    "### 2.3. Extract interarea connectivity <a class=\"anchor\" id=\"section_2_3\"></a>"
   ]
  },
  {
   "cell_type": "markdown",
   "id": "8a7c09e0",
   "metadata": {},
   "source": [
    "The connectivity and neuron numbers are stored in the attributes of the model class. Neuron numbers are stored in `M.N` as a dictionary (and in `M.N_vec` as an array), indegrees in `M.K` as a dictionary (and in `M.K_matrix` as an array). Number of synapses can also be access via `M.synapses` (and in `M.syn_matrix` as an array). <br>"
   ]
  },
  {
   "cell_type": "markdown",
   "id": "b7396606",
   "metadata": {},
   "source": [
    "#### 2.3.1 Node indegrees"
   ]
  },
  {
   "cell_type": "code",
   "execution_count": 9,
   "id": "6316ac24",
   "metadata": {},
   "outputs": [],
   "source": [
    "# Dictionary of nodes indegrees organized as:\n",
    "# {<source_area>: {<source_pop>: {<target_area>: {<target_pop>: indegree_values}}}}\n",
    "# M.K"
   ]
  },
  {
   "cell_type": "markdown",
   "id": "253a2aba",
   "metadata": {},
   "source": [
    "#### 2.3.2 Synapses"
   ]
  },
  {
   "cell_type": "code",
   "execution_count": 10,
   "id": "445a722a",
   "metadata": {},
   "outputs": [],
   "source": [
    "# Dictionary of synapses that target neurons receive, it is organized as:\n",
    "# {<source_area>: {<source_pop>: {<target_area>: {<target_pop>: number_of_synapses}}}}\n",
    "# M.synapses"
   ]
  },
  {
   "cell_type": "markdown",
   "id": "e67f37e9-ec8d-4bb1-bd21-45e966f47ab6",
   "metadata": {},
   "source": [
    "Go back to [Notebook structure](#toc)"
   ]
  },
  {
   "cell_type": "markdown",
   "id": "0c1cad59-81d0-4e24-ac33-13c4ca8c6dec",
   "metadata": {},
   "source": [
    "### 2.4. Run the simulation <a class=\"anchor\" id=\"section_2_4\"></a>"
   ]
  },
  {
   "cell_type": "code",
   "execution_count": 11,
   "id": "15778e9c",
   "metadata": {},
   "outputs": [
    {
     "name": "stdout",
     "output_type": "stream",
     "text": [
      "Prepared simulation in 0.00 seconds.\n",
      "Rank 0: created area V1 with 0 local nodes\n",
      "Memory after V1 : 1912.21 MB\n",
      "Rank 0: created area V2 with 0 local nodes\n",
      "Memory after V2 : 1938.80 MB\n",
      "Rank 0: created area VP with 0 local nodes\n",
      "Memory after VP : 1968.00 MB\n",
      "Rank 0: created area V3 with 0 local nodes\n",
      "Memory after V3 : 1996.25 MB\n",
      "Rank 0: created area V3A with 0 local nodes\n",
      "Memory after V3A : 2016.15 MB\n",
      "Rank 0: created area MT with 0 local nodes\n",
      "Memory after MT : 2041.82 MB\n",
      "Rank 0: created area V4t with 0 local nodes\n",
      "Memory after V4t : 2066.72 MB\n",
      "Rank 0: created area V4 with 0 local nodes\n",
      "Memory after V4 : 2093.75 MB\n",
      "Rank 0: created area VOT with 0 local nodes\n",
      "Memory after VOT : 2118.94 MB\n",
      "Rank 0: created area MSTd with 0 local nodes\n",
      "Memory after MSTd : 2140.57 MB\n",
      "Rank 0: created area PIP with 0 local nodes\n",
      "Memory after PIP : 2161.88 MB\n",
      "Rank 0: created area PO with 0 local nodes\n",
      "Memory after PO : 2183.39 MB\n",
      "Rank 0: created area DP with 0 local nodes\n",
      "Memory after DP : 2203.65 MB\n",
      "Rank 0: created area MIP with 0 local nodes\n",
      "Memory after MIP : 2225.15 MB\n",
      "Rank 0: created area MDP with 0 local nodes\n",
      "Memory after MDP : 2246.66 MB\n",
      "Rank 0: created area VIP with 0 local nodes\n",
      "Memory after VIP : 2268.48 MB\n",
      "Rank 0: created area LIP with 0 local nodes\n",
      "Memory after LIP : 2292.51 MB\n",
      "Rank 0: created area PITv with 0 local nodes\n",
      "Memory after PITv : 2317.84 MB\n",
      "Rank 0: created area PITd with 0 local nodes\n",
      "Memory after PITd : 2343.02 MB\n",
      "Rank 0: created area MSTl with 0 local nodes\n",
      "Memory after MSTl : 2364.52 MB\n",
      "Rank 0: created area CITv with 0 local nodes\n",
      "Memory after CITv : 2383.66 MB\n",
      "Rank 0: created area CITd with 0 local nodes\n",
      "Memory after CITd : 2403.00 MB\n",
      "Rank 0: created area FEF with 0 local nodes\n",
      "Memory after FEF : 2424.47 MB\n",
      "Rank 0: created area TF with 0 local nodes\n",
      "Memory after TF : 2440.11 MB\n",
      "Rank 0: created area AITv with 0 local nodes\n",
      "Memory after AITv : 2462.78 MB\n",
      "Rank 0: created area FST with 0 local nodes\n",
      "Memory after FST : 2479.55 MB\n",
      "Rank 0: created area 7a with 0 local nodes\n",
      "Memory after 7a : 2500.77 MB\n",
      "Rank 0: created area STPp with 0 local nodes\n",
      "Memory after STPp : 2519.48 MB\n",
      "Rank 0: created area STPa with 0 local nodes\n",
      "Memory after STPa : 2538.62 MB\n",
      "Rank 0: created area 46 with 0 local nodes\n",
      "Memory after 46 : 2553.95 MB\n",
      "Rank 0: created area AITd with 0 local nodes\n",
      "Memory after AITd : 2576.51 MB\n",
      "Rank 0: created area TH with 0 local nodes\n",
      "Memory after TH : 2589.22 MB\n",
      "Created areas and internal connections in 2.26 seconds.\n",
      "Created cortico-cortical connections in 22.84 seconds.\n",
      "Simulated network in 81.08 seconds.\n"
     ]
    }
   ],
   "source": [
    "# run the simulation, depending on the model parameter and downscale ratio, the running time varies largely.\n",
    "M.simulation.simulate()"
   ]
  },
  {
   "cell_type": "markdown",
   "id": "fd6e3232",
   "metadata": {},
   "source": [
    "Go back to [Notebook structure](#toc)"
   ]
  },
  {
   "cell_type": "markdown",
   "id": "4003c5a5-4a6f-49c5-be17-09f1bc68c411",
   "metadata": {},
   "source": [
    "<br>"
   ]
  },
  {
   "cell_type": "markdown",
   "id": "28e071f8",
   "metadata": {
    "jp-MarkdownHeadingCollapsed": true,
    "tags": []
   },
   "source": [
    "## S3. Simulation results validation and connection extraction <a class=\"anchor\" id=\"section_3\"></a>"
   ]
  },
  {
   "cell_type": "markdown",
   "id": "89c7b7cf",
   "metadata": {},
   "source": [
    "### 3.1 Test if the correct number of synapses has been created"
   ]
  },
  {
   "cell_type": "code",
   "execution_count": 12,
   "id": "dc3b1820",
   "metadata": {},
   "outputs": [],
   "source": [
    "# # Uncomment the lines in this code cell below to test if the number of synapses created by NEST matches the expected values\n",
    "\n",
    "# print(\"Testing synapse numbers\")\n",
    "# for target_area_name in M.area_list:\n",
    "#     target_area = M.simulation.areas[M.simulation.areas.index(target_area_name)]\n",
    "#     for source_area_name in M.area_list:\n",
    "#         source_area = M.simulation.areas[M.simulation.areas.index(source_area_name)]\n",
    "#         for target_pop in M.structure[target_area.name]:\n",
    "#             target_nodes = target_area.gids[target_pop]\n",
    "#             for source_pop in M.structure[source_area.name]:\n",
    "#                 source_nodes = source_area.gids[source_pop]\n",
    "#                 created_syn = nest.GetConnections(source=source_nodes,\n",
    "#                                                   target=target_nodes)\n",
    "#                 syn = M.synapses[target_area.name][target_pop][source_area.name][source_pop]\n",
    "#                 assert(len(created_syn) == int(syn))"
   ]
  },
  {
   "cell_type": "markdown",
   "id": "57401110",
   "metadata": {},
   "source": [
    "### 3.2 Extract connections information\n",
    "**Warning**: Memory explosion <br>\n",
    "To obtain the connections information, you can extract the lists of connected sources and targets. Moreover, you can access additional synaptic details, such as synaptic weights and delays."
   ]
  },
  {
   "cell_type": "code",
   "execution_count": 13,
   "id": "e7eb052e",
   "metadata": {},
   "outputs": [],
   "source": [
    "# conns = nest.GetConnections()\n",
    "# conns_sparse_matrix = conns.get(['source', 'target', 'weight'])\n",
    "\n",
    "# srcs = conns_sparse_matrix['source']\n",
    "# tgts = conns_sparse_matrix['target']\n",
    "# weights = conns_sparse_matrix['weight']"
   ]
  },
  {
   "cell_type": "markdown",
   "id": "ef4b2e4b",
   "metadata": {},
   "source": [
    "You can determine the area and subpopulation to which the neuron ID ranges belong by referring to the file `network_gids.txt`, which is automatically generated during network creation."
   ]
  },
  {
   "cell_type": "code",
   "execution_count": 14,
   "id": "902f2800",
   "metadata": {},
   "outputs": [],
   "source": [
    "# # Open the file using a with statement\n",
    "# with open(os.path.join(M.simulation.data_dir,\"recordings/network_gids.txt\"), \"r\") as file:\n",
    "#     # Read the contents of the file\n",
    "#     gids = file.read()\n",
    "\n",
    "# # Print the contents\n",
    "# print(gids)"
   ]
  },
  {
   "cell_type": "markdown",
   "id": "b1320ab1",
   "metadata": {},
   "source": [
    "Go back to [Notebook structure](#toc)"
   ]
  },
  {
   "cell_type": "markdown",
   "id": "529b1ade",
   "metadata": {},
   "source": [
    "<br>"
   ]
  },
  {
   "cell_type": "markdown",
   "id": "57ff902c-d6ce-4f96-9e4f-8e3e7166ab66",
   "metadata": {
    "tags": []
   },
   "source": [
    "## S4. Data loading and processing <a class=\"anchor\" id=\"section_4\"></a>"
   ]
  },
  {
   "cell_type": "code",
   "execution_count": 15,
   "id": "f5b58845-4d1a-430f-83f4-402fdf918aef",
   "metadata": {
    "tags": []
   },
   "outputs": [],
   "source": [
    "label_spikes, label = M.simulation.label"
   ]
  },
  {
   "cell_type": "code",
   "execution_count": 16,
   "id": "6607a73d-1c74-4848-9603-081ad0e7cae8",
   "metadata": {
    "tags": []
   },
   "outputs": [
    {
     "name": "stdout",
     "output_type": "stream",
     "text": [
      "loading spikes\n"
     ]
    }
   ],
   "source": [
    "\"\"\"\n",
    "Analysis class.\n",
    "An instance of the analysis class for the given network and simulation.\n",
    "Can be created as a member class of a multiarea_model instance or standalone.\n",
    "\n",
    "Parameters\n",
    "----------\n",
    "network : MultiAreaModel\n",
    "    An instance of the multiarea_model class that specifies\n",
    "    the network to be analyzed.\n",
    "simulation : Simulation\n",
    "    An instance of the simulation class that specifies\n",
    "    the simulation to be analyzed.\n",
    "data_list : list of strings {'spikes', vm'}, optional\n",
    "    Specifies which type of data is to load. Defaults to ['spikes'].\n",
    "load_areas : list of strings with area names, optional\n",
    "    Specifies the areas for which data is to be loaded.\n",
    "    Default value is None and leads to loading of data for all\n",
    "    simulated areas.\n",
    "\"\"\"\n",
    "# Instantiate an analysis class and load spike data\n",
    "A = Analysis(network=M, \n",
    "             simulation=M.simulation, \n",
    "             data_list=['spikes'],\n",
    "             load_areas=None)"
   ]
  },
  {
   "cell_type": "code",
   "execution_count": 17,
   "id": "1870cf34-ee62-4614-bc25-c36bc9a7377c",
   "metadata": {
    "tags": []
   },
   "outputs": [
    {
     "name": "stdout",
     "output_type": "stream",
     "text": [
      "Loading data from file\n",
      "Computing population rates done\n"
     ]
    }
   ],
   "source": [
    "\"\"\"\n",
    "Calculate time-averaged population rates and store them in member pop_rates.\n",
    "If the rates had previously been stored with the same\n",
    "parameters, they are loaded from file.\n",
    "\n",
    "Parameters\n",
    "----------\n",
    "t_min : float, optional\n",
    "    Minimal time in ms of the simulation to take into account\n",
    "    for the calculation. Defaults to 500 ms.\n",
    "t_max : float, optional\n",
    "    Maximal time in ms of the simulation to take into account\n",
    "    for the calculation. Defaults to the simulation time.\n",
    "compute_stat : bool, optional\n",
    "    If set to true, the mean and variance of the population rate\n",
    "    is calculated. Defaults to False.\n",
    "    Caution: Setting to True slows down the computation.\n",
    "areas : list, optional\n",
    "    Which areas to include in the calculcation.\n",
    "    Defaults to all loaded areas.\n",
    "pops : list or {'complete'}, optional\n",
    "    Which populations to include in the calculation.\n",
    "    If set to 'complete', all populations the respective areas\n",
    "    are included. Defaults to 'complete'.\n",
    "\"\"\"\n",
    "A.create_pop_rates()\n",
    "print(\"Computing population rates done\")"
   ]
  },
  {
   "cell_type": "code",
   "execution_count": 18,
   "id": "50b7df89",
   "metadata": {
    "tags": []
   },
   "outputs": [
    {
     "name": "stdout",
     "output_type": "stream",
     "text": [
      "Loading data from file\n",
      "Computing synchrony done\n"
     ]
    }
   ],
   "source": [
    "\"\"\"\n",
    "Calculate synchrony as the coefficient of variation of the population rate\n",
    "and store in member synchrony. Uses helper function synchrony.\n",
    "If the synchrony has previously been stored with the\n",
    "same parameters, they are loaded from file.\n",
    "\n",
    "\n",
    "Parameters\n",
    "----------\n",
    "t_min : float, optional\n",
    "    Minimal time in ms of the simulation to take into account\n",
    "    for the calculation. Defaults to 500 ms.\n",
    "t_max : float, optional\n",
    "    Maximal time in ms of the simulation to take into account\n",
    "    for the calculation. Defaults to the simulation time.\n",
    "areas : list, optional\n",
    "    Which areas to include in the calculcation.\n",
    "    Defaults to all loaded areas.\n",
    "pops : list or {'complete'}, optional\n",
    "    Which populations to include in the calculation.\n",
    "    If set to 'complete', all populations the respective areas\n",
    "    are included. Defaults to 'complete'.\n",
    "resolution : float, optional\n",
    "    Resolution of the population rate. Defaults to 1 ms.\n",
    "\"\"\"\n",
    "A.create_synchrony()\n",
    "print(\"Computing synchrony done\")"
   ]
  },
  {
   "cell_type": "code",
   "execution_count": 19,
   "id": "d43b493c",
   "metadata": {
    "tags": []
   },
   "outputs": [
    {
     "name": "stdout",
     "output_type": "stream",
     "text": [
      "Loading data from file\n",
      "Computing population LvR done\n"
     ]
    }
   ],
   "source": [
    "\"\"\"\n",
    "Calculate poulation-averaged LvR (see Shinomoto et al. 2009) and\n",
    "store as member pop_LvR. Uses helper function LvR.\n",
    "\n",
    "Parameters\n",
    "----------\n",
    "t_min : float, optional\n",
    "    Minimal time in ms of the simulation to take into account\n",
    "    for the calculation. Defaults to 500 ms.\n",
    "t_max : float, optional\n",
    "    Maximal time in ms of the simulation to take into account\n",
    "    for the calculation. Defaults to the simulation time.\n",
    "areas : list, optional\n",
    "    Which areas to include in the calculcation.\n",
    "    Defaults to all loaded areas.\n",
    "pops : list or {'complete'}, optional\n",
    "    Which populations to include in the calculation.\n",
    "    If set to 'complete', all populations the respective areas\n",
    "    are included. Defaults to 'complete'.\n",
    "\"\"\"\n",
    "A.create_pop_LvR()\n",
    "print(\"Computing population LvR done\")"
   ]
  },
  {
   "cell_type": "code",
   "execution_count": 20,
   "id": "401ece2d-47c8-4775-80ae-92a8e432520c",
   "metadata": {
    "tags": []
   },
   "outputs": [
    {
     "name": "stdout",
     "output_type": "stream",
     "text": [
      "Loading data from file\n",
      "Loading data from file\n",
      "Computing rate time series done\n"
     ]
    }
   ],
   "source": [
    "\"\"\"\n",
    "Calculate time series of population- and area-averaged firing rates.\n",
    "Uses ah.pop_rate_time_series.\n",
    "If the rates have previously been stored with the\n",
    "same parameters, they are loaded from file.\n",
    "\n",
    "\n",
    "Parameters\n",
    "----------\n",
    "t_min : float, optional\n",
    "    Minimal time in ms of the simulation to take into account\n",
    "    for the calculation. Defaults to 500 ms.\n",
    "t_max : float, optional\n",
    "    Maximal time in ms of the simulation to take into account\n",
    "    for the calculation. Defaults to the simulation time.\n",
    "areas : list, optional\n",
    "    Which areas to include in the calculcation.\n",
    "    Defaults to all loaded areas.\n",
    "pops : list or {'complete'}, optional\n",
    "    Which populations to include in the calculation.\n",
    "    If set to 'complete', all populations the respective areas\n",
    "    are included. Defaults to 'complete'.\n",
    "kernel : {'gauss_time_window', 'alpha_time_window', 'rect_time_window'}, optional\n",
    "    Specifies the kernel to be convolved with the spike histogram.\n",
    "    Defaults to 'binned', which corresponds to no convolution.\n",
    "resolution: float, optional\n",
    "    Width of the convolution kernel. Specifically it correponds to:\n",
    "    - 'binned' : bin width of the histogram\n",
    "    - 'gauss_time_window' : sigma\n",
    "    - 'alpha_time_window' : time constant of the alpha function\n",
    "    - 'rect_time_window' : width of the moving rectangular function\n",
    "\"\"\"\n",
    "A.create_rate_time_series()\n",
    "print(\"Computing rate time series done\")"
   ]
  },
  {
   "cell_type": "code",
   "execution_count": 21,
   "id": "fa3ea20e-e456-4608-a711-e2c320bcaf91",
   "metadata": {},
   "outputs": [
    {
     "name": "stdout",
     "output_type": "stream",
     "text": [
      "pop_LvR\n",
      "pop_rates\n",
      "synchrony\n"
     ]
    }
   ],
   "source": [
    "A.save()"
   ]
  },
  {
   "cell_type": "markdown",
   "id": "2da9728d-4481-4a15-b810-d125e39cbe4e",
   "metadata": {},
   "source": [
    "Go back to [Notebook structure](#toc)"
   ]
  },
  {
   "cell_type": "markdown",
   "id": "4d43d223-a62e-448a-a7ea-8379b8be8e86",
   "metadata": {},
   "source": [
    "<br>"
   ]
  },
  {
   "cell_type": "markdown",
   "id": "bb71c922",
   "metadata": {
    "tags": []
   },
   "source": [
    "## S5. Simulation results visualziation <a class=\"anchor\" id=\"section_5\"></a>"
   ]
  },
  {
   "cell_type": "markdown",
   "id": "38ddd973",
   "metadata": {
    "tags": []
   },
   "source": [
    "### 5.1. Instantaneous and mean firing rate across all populations <a class=\"anchor\" id=\"section_5_1\"></a>"
   ]
  },
  {
   "cell_type": "code",
   "execution_count": 23,
   "id": "bea30fc8",
   "metadata": {},
   "outputs": [],
   "source": [
    "# # load spike data and calculate instantaneous and mean firing rates\n",
    "# data = np.loadtxt(M.simulation.data_dir + '/recordings/' + M.simulation.label + \"-spikes-1-0.dat\", skiprows=3)\n",
    "# tsteps, spikecount = np.unique(data[:,1], return_counts=True)\n",
    "# rate = spikecount / M.simulation.params['dt'] * 1e3 / np.sum(M.N_vec)\n",
    "\n",
    "# ax = plt.subplot()\n",
    "# ax.plot(tsteps, rate)\n",
    "# ax.plot(tsteps, np.average(rate)*np.ones(len(tsteps)), label='mean')\n",
    "# ax.set_title('Instantaneous and mean firing rate across all populations')\n",
    "# ax.set_xlabel('time (ms)')\n",
    "# ax.set_ylabel('firing rate (spikes / s)')\n",
    "# ax.set_xlim(0, sim_params['t_sim'])\n",
    "# ax.set_ylim(0, 50)\n",
    "# ax.legend()\n",
    "\n",
    "from MAM2EBRAINS import plot_instan_mean_firing_rate\n",
    "plot_instan_mean_firing_rate(tsteps, rate, sim_params)"
   ]
  },
  {
   "cell_type": "code",
   "execution_count": 24,
   "id": "c37d2fc5-acb8-416c-9c9c-0926057efb54",
   "metadata": {},
   "outputs": [
    {
     "data": {
      "text/plain": [
       "<matplotlib.legend.Legend at 0x7f93142a9ee0>"
      ]
     },
     "execution_count": 24,
     "metadata": {},
     "output_type": "execute_result"
    },
    {
     "data": {
      "image/png": "[encoded data removed]",
      "text/plain": [
       "<Figure size 432x288 with 1 Axes>"
      ]
     },
     "metadata": {
      "needs_background": "light"
     },
     "output_type": "display_data"
    }
   ],
   "source": [
    "# data = np.loadtxt(M.simulation.data_dir + '/recordings/' + M.simulation.label + \"-spikes-1-0.dat\", skiprows=3)\n",
    "# tsteps, spikecount = np.unique(data[:,1], return_counts=True)\n",
    "# rate = spikecount / M.simulation.params['dt'] * 1e3 / np.sum(M.N_vec)\n",
    "# fig, ax = plt.subplots()\n",
    "# ax.plot(tsteps, rate)\n",
    "# ax.plot(tsteps, np.average(rate)*np.ones(len(tsteps)), label='mean')\n",
    "# ax.set_title('instantaneous rate across all populations')\n",
    "# ax.set_xlabel('time (ms)')\n",
    "# ax.set_ylabel('rate (spikes / s)')\n",
    "# ax.set_xlim(0, sim_params['t_sim'])\n",
    "# ax.set_ylim(0, 50)\n",
    "# ax.legend()"
   ]
  },
  {
   "cell_type": "markdown",
   "id": "e91c436e-db94-4cd7-a531-29c032efeeae",
   "metadata": {},
   "source": [
    "### 5.2 Resting state plots <a class=\"anchor\" id=\"section_5_2\"></a>"
   ]
  },
  {
   "cell_type": "markdown",
   "id": "aeae56a4",
   "metadata": {},
   "source": [
    "**Fig 5. Resting state of the model with χ =1.9.** (A-C) Raster plot of spiking activity of 3% of the neurons in area V1 (A), V2 (B), and FEF (C). Blue: excitatory neurons, red: inhibitory neurons. (D-F) Spiking statistics across all 32 areas for the respective populations shown as area-averaged box plots. Crosses: medians, boxes: interquartile range (IQR), whiskers extend to the most extremeobservat ions within 1.5×IQR beyond the IQR. (D) Population-averaged firing rates. (E) Average pairwise correlation coefficients of spiking activity. (F) Irregularity measured by revised local variation LvR averaged across neurons. (G) Area-averaged firing rates, shown as raw binned spike histograms with 1ms bin width (gray) and convolved histograms, with aGaussian kernel (black) of optimal width."
   ]
  },
  {
   "cell_type": "code",
   "execution_count": 25,
   "id": "90416124-b053-4e12-9fbb-f4f5ae36bd6d",
   "metadata": {},
   "outputs": [],
   "source": [
    "# import json\n",
    "# import numpy as np\n",
    "# import os\n",
    "\n",
    "# import sys\n",
    "# sys.path.append('./figures/Schmidt2018_dyn')\n",
    "# from helpers import original_data_path, population_labels\n",
    "# from multiarea_model import MultiAreaModel\n",
    "# from plotcolors import myred, myblue\n",
    "\n",
    "# %matplotlib inline\n",
    "# import matplotlib\n",
    "# import numpy as np\n",
    "# import matplotlib.pyplot as pl\n",
    "# from matplotlib import gridspec\n",
    "# from matplotlib import rc_file\n",
    "# rc_file('./figures/Schmidt2018_dyn/plotstyle.rc')\n",
    "\n",
    "# icolor = myred\n",
    "# ecolor = myblue"
   ]
  },
  {
   "cell_type": "code",
   "execution_count": 26,
   "id": "d3bf5947-7387-4d95-a00e-2ed72d26b35c",
   "metadata": {},
   "outputs": [],
   "source": [
    "# def set_boxplot_props(d):\n",
    "#     for i in range(len(d['boxes'])):\n",
    "#         if i % 2 == 0:\n",
    "#             d['boxes'][i].set_facecolor(icolor)\n",
    "#             d['boxes'][i].set_color(icolor)\n",
    "#         else:\n",
    "#             d['boxes'][i].set_facecolor(ecolor)\n",
    "#             d['boxes'][i].set_color(ecolor)\n",
    "#     pl.setp(d['whiskers'], color='k')\n",
    "#     pl.setp(d['fliers'], color='k', markerfacecolor='k', marker='+')\n",
    "#     pl.setp(d['medians'], color='none')\n",
    "#     pl.setp(d['caps'], color='k')\n",
    "#     pl.setp(d['means'], marker='x', color='k',\n",
    "#             markerfacecolor='k', markeredgecolor='k', markersize=3.)\n",
    "    \n",
    "# def plot_resting_state(A, label_spikes, label):   \n",
    "#     \"\"\"\n",
    "#     Figure layout\n",
    "#     \"\"\"\n",
    "#     nrows = 4\n",
    "#     ncols = 4\n",
    "#     width = 7.0866\n",
    "#     panel_wh_ratio = 0.7 * (1. + np.sqrt(5)) / 2.  # golden ratio\n",
    "\n",
    "#     height = width / panel_wh_ratio * float(nrows) / ncols\n",
    "#     pl.rcParams['figure.figsize'] = (width, height)\n",
    "\n",
    "\n",
    "#     fig = pl.figure()\n",
    "#     axes = {}\n",
    "\n",
    "#     gs1 = gridspec.GridSpec(1, 3)\n",
    "#     gs1.update(left=0.06, right=0.72, top=0.95, wspace=0.4, bottom=0.35)\n",
    "#     axes['A'] = pl.subplot(gs1[:1, :1])\n",
    "#     axes['B'] = pl.subplot(gs1[:1, 1:2])\n",
    "#     axes['C'] = pl.subplot(gs1[:1, 2:])\n",
    "\n",
    "#     gs2 = gridspec.GridSpec(3, 1)\n",
    "#     gs2.update(left=0.78, right=0.95, top=0.95, bottom=0.35)\n",
    "#     axes['D'] = pl.subplot(gs2[:1, :1])\n",
    "#     axes['E'] = pl.subplot(gs2[1:2, :1])\n",
    "#     axes['F'] = pl.subplot(gs2[2:3, :1])\n",
    "\n",
    "\n",
    "#     gs3 = gridspec.GridSpec(1, 1)\n",
    "#     gs3.update(left=0.1, right=0.95, top=0.3, bottom=0.075)\n",
    "#     axes['G'] = pl.subplot(gs3[:1, :1])\n",
    "\n",
    "#     areas = ['V1', 'V2', 'FEF']\n",
    "\n",
    "#     labels = ['A', 'B', 'C']\n",
    "#     for area, label in zip(areas, labels):\n",
    "#         label_pos = [-0.2, 1.01]\n",
    "#         # pl.text(label_pos[0], label_pos[1], r'\\bfseries{}' + label + ': ' + area,\n",
    "#         #         fontdict={'fontsize': 10, 'weight': 'bold',\n",
    "#         #                 'horizontalalignment': 'left', 'verticalalignment':\n",
    "#         #                 'bottom'}, transform=axes[label].transAxes)\n",
    "\n",
    "#     label = 'G'\n",
    "#     label_pos = [-0.1, 0.92]\n",
    "#     # pl.text(label_pos[0], label_pos[1], r'\\bfseries{}' + label,\n",
    "#     #         fontdict={'fontsize': 10, 'weight': 'bold',\n",
    "#     #                 'horizontalalignment': 'left', 'verticalalignment':\n",
    "#     #                 'bottom'}, transform=axes[label].transAxes)\n",
    "\n",
    "\n",
    "#     labels = ['E', 'D', 'F']\n",
    "#     for label in labels:\n",
    "#         label_pos = [-0.2, 1.05]\n",
    "#         # pl.text(label_pos[0], label_pos[1], r'\\bfseries{}' + label,\n",
    "#         #         fontdict={'fontsize': 10, 'weight': 'bold',\n",
    "#         #                 'horizontalalignment': 'left', 'verticalalignment':\n",
    "#         #                 'bottom'}, transform=axes[label].transAxes)\n",
    "\n",
    "#     labels = ['A', 'B', 'C', 'D', 'E', 'F']\n",
    "\n",
    "#     for label in labels:\n",
    "#         axes[label].spines['right'].set_color('none')\n",
    "#         axes[label].spines['top'].set_color('none')\n",
    "#         axes[label].yaxis.set_ticks_position(\"left\")\n",
    "#         axes[label].xaxis.set_ticks_position(\"bottom\")\n",
    "\n",
    "#     for label in ['A', 'B', 'C']:\n",
    "#         axes[label].yaxis.set_ticks_position('none')\n",
    "\n",
    "\n",
    "#     \"\"\"\n",
    "#     Load data\n",
    "#     \"\"\"\n",
    "#     LOAD_ORIGINAL_DATA = False\n",
    "\n",
    "\n",
    "#     if LOAD_ORIGINAL_DATA:\n",
    "#         # use T=10500 simulation for spike raster plots\n",
    "#         label_spikes = '3afaec94d650c637ef8419611c3f80b3cb3ff539'\n",
    "#         # and T=100500 simulation for all other panels\n",
    "#         label = '99c0024eacc275d13f719afd59357f7d12f02b77'\n",
    "#         data_path = original_data_path\n",
    "#     else:\n",
    "#         from network_simulations import init_models\n",
    "#         from config import data_path\n",
    "#         # models = init_models('Fig5')\n",
    "#         # label_spikes = models[0].simulation.label\n",
    "#         label_spikes = label_spikes\n",
    "#         # label = models[1].simulation.label\n",
    "#         label = label\n",
    "\n",
    "#     \"\"\"\n",
    "#     Create MultiAreaModel instance to have access to data structures\n",
    "#     \"\"\"\n",
    "#     # M = MultiAreaModel({})\n",
    "\n",
    "#     # # spike data\n",
    "#     # spike_data = {}\n",
    "#     # for area in areas:\n",
    "#     #     spike_data[area] = {}\n",
    "#     #     for pop in M.structure[area]:\n",
    "#     #         spike_data[area][pop] = np.load(os.path.join(data_path,\n",
    "#     #                                                     label_spikes,\n",
    "#     #                                                     'recordings',\n",
    "#     #                                                     '{}-spikes-{}-{}.npy'.format(label_spikes,\n",
    "#                                                                                      # area, pop)))\n",
    "\n",
    "#     # load spike data\n",
    "#     spike_data = A.spike_data\n",
    "\n",
    "#     # stationary firing rates\n",
    "#     print(data_path)\n",
    "#     fn = os.path.join(data_path, label, 'Analysis', 'pop_rates.json')\n",
    "#     print(fn)\n",
    "#     fn = '/opt/app-root/src/MAM2EBRAINS/simulations/27d81076e6d6e9e591684be053078477/Analysis/pop_rates.json'\n",
    "#     with open(fn, 'r') as f:\n",
    "#         pop_rates = json.load(f)\n",
    "\n",
    "#     # time series of firing rates\n",
    "#     rate_time_series = {}\n",
    "#     for area in areas:\n",
    "#         # fn = os.path.join(data_path, label,\n",
    "#         #                 'Analysis',\n",
    "#         #                 'rate_time_series_full',\n",
    "#         #                 'rate_time_series_full_{}.npy'.format(area))\n",
    "#         fn = os.path.join(data_path, '27d81076e6d6e9e591684be053078477',\n",
    "#                             'Analysis',\n",
    "#                             'rate_time_series-{}.npy'.format(area))\n",
    "#         # fn = \"/opt/app-root/src/MAM2EBRAINS/simulations/27d81076e6d6e9e591684be053078477/Analysis/rate_time_series_full/rate_time_series_full_V1.npy\"\n",
    "#         rate_time_series[area] = np.load(fn)\n",
    "\n",
    "#     # # time series of firing rates convolved with a kernel\n",
    "#     # rate_time_series_auto_kernel = {}\n",
    "#     # for area in areas:\n",
    "#     #     fn = os.path.join(data_path, str(label),\n",
    "#     #                     'Analysis',\n",
    "#     #                     'rate_time_series_auto_kernel',\n",
    "#     #                     'rate_time_series_auto_kernel_{}.npy'.format(area))\n",
    "#     #     rate_time_series_auto_kernel[area] = np.load(fn)\n",
    "\n",
    "#     # local variance revised (LvR)\n",
    "#     fn = os.path.join(data_path, '27d81076e6d6e9e591684be053078477', 'Analysis', 'pop_LvR.json')\n",
    "#     with open(fn, 'r') as f:\n",
    "#         pop_LvR = json.load(f)\n",
    "\n",
    "#     # correlation coefficients\n",
    "#     fn = os.path.join(data_path, '27d81076e6d6e9e591684be053078477', 'Analysis', 'synchrony.json')\n",
    "#     with open(fn, 'r') as f:\n",
    "#         corrcoeff = json.load(f)\n",
    "    \n",
    "#     \"\"\"\n",
    "#     Plotting\n",
    "#     \"\"\"\n",
    "#     print(\"Raster plots\")\n",
    "\n",
    "#     t_min = 0.\n",
    "#     t_max = 2000.\n",
    "\n",
    "#     icolor = myred\n",
    "#     ecolor = myblue\n",
    "\n",
    "#     frac_neurons = 0.03\n",
    "\n",
    "#     for i, area in enumerate(areas):\n",
    "#         ax = axes[labels[i]]\n",
    "\n",
    "#         if area in spike_data:\n",
    "#             n_pops = len(spike_data[area])\n",
    "#             # Determine number of neurons that will be plotted for this area (for\n",
    "#             # vertical offset)\n",
    "#             offset = 0\n",
    "#             n_to_plot = {}\n",
    "#             for pop in M.structure[area]:\n",
    "#                 n_to_plot[pop] = int(M.N[area][pop] * frac_neurons)\n",
    "#                 offset = offset + n_to_plot[pop]\n",
    "#             y_max = offset + 1\n",
    "#             prev_pop = ''\n",
    "#             yticks = []\n",
    "#             yticklocs = []\n",
    "#             for jj, pop in enumerate(M.structure[area]):\n",
    "#                 if pop[0:-1] != prev_pop:\n",
    "#                     prev_pop = pop[0:-1]\n",
    "#                     yticks.append('L' + population_labels[jj][0:-1])\n",
    "#                     yticklocs.append(offset - 0.5 * n_to_plot[pop])\n",
    "#                 ind = np.where(np.logical_and(\n",
    "#                     spike_data[area][pop][:, 1] <= t_max, spike_data[area][pop][:, 1] >= t_min))\n",
    "#                 pop_data = spike_data[area][pop][ind]\n",
    "#                 pop_neurons = np.unique(pop_data[:, 0])\n",
    "#                 neurons_to_ = np.arange(np.min(spike_data[area][pop][:, 0]), np.min(\n",
    "#                     spike_data[area][pop][:, 0]) + n_to_plot[pop], 1)\n",
    "\n",
    "#                 if pop.find('E') > (-1):\n",
    "#                     pcolor = ecolor\n",
    "#                 else:\n",
    "#                     pcolor = icolor\n",
    "\n",
    "#                 for kk in range(n_to_plot[pop]):\n",
    "#                     spike_times = pop_data[pop_data[:, 0] == neurons_to_[kk], 1]\n",
    "\n",
    "#                     _ = ax.plot(spike_times, np.zeros(len(spike_times)) +\n",
    "#                                 offset - kk, '.', color=pcolor, markersize=1)\n",
    "#                 offset = offset - n_to_plot[pop]\n",
    "#             y_min = offset\n",
    "#             ax.set_xlim([t_min, t_max])\n",
    "#             ax.set_ylim([y_min, y_max])\n",
    "#             # ax.set_yticklabels(yticks)\n",
    "#             ax.set_yticks(yticklocs)\n",
    "#             # ax.set_xlabel('Time (s)', labelpad=-0.1)\n",
    "#             ax.set_xticks([t_min, t_min + 250., t_max])\n",
    "#             # ax.set_xticklabels([r'3.', r'3.25', r'3.5'])\n",
    "\n",
    "    \n",
    "#     print(\"plotting Population rates\")\n",
    "\n",
    "#     rates = np.zeros((len(M.area_list), 8))\n",
    "#     for i, area in enumerate(M.area_list):\n",
    "#         for j, pop in enumerate(M.structure[area][::-1]):\n",
    "#             rate = pop_rates[area][pop][0]\n",
    "#             if rate == 0.0:\n",
    "#                 rate = 1e-5\n",
    "#             if area == 'TH' and j > 3:  # To account for missing layer 4 in TH\n",
    "#                 rates[i][j + 2] = rate\n",
    "#             else:\n",
    "#                 rates[i][j] = rate\n",
    "\n",
    "\n",
    "#     rates = np.transpose(rates)\n",
    "#     masked_rates = np.ma.masked_where(rates < 1e-4, rates)\n",
    "\n",
    "#     ax = axes['D']\n",
    "#     d = ax.boxplot(np.transpose(rates), vert=False,\n",
    "#                 patch_artist=True, whis=1.5, showmeans=True)\n",
    "#     set_boxplot_props(d)\n",
    "\n",
    "#     ax.plot(np.mean(rates, axis=1), np.arange(\n",
    "#         1., len(M.structure['V1']) + 1., 1.), 'x', color='k', markersize=3)\n",
    "#     ax.set_yticklabels(population_labels[::-1], size=8)\n",
    "#     ax.set_yticks(np.arange(1., len(M.structure['V1']) + 1., 1.))\n",
    "#     ax.set_ylim((0., len(M.structure['V1']) + .5))\n",
    "\n",
    "#     x_max = 220.\n",
    "#     ax.set_xlim((-1., x_max))\n",
    "#     # ax.set_xlabel(r'Rate (spikes/s)', labelpad=-0.1)\n",
    "#     ax.set_xticks([0., 50., 100.])\n",
    "\n",
    "#     print(\"plotting Synchrony\")\n",
    "\n",
    "#     syn = np.zeros((len(M.area_list), 8))\n",
    "#     for i, area in enumerate(M.area_list):\n",
    "#         for j, pop in enumerate(M.structure[area][::-1]):\n",
    "#             value = corrcoeff[area][pop]\n",
    "#             if value == 0.0:\n",
    "#                 value = 1e-5\n",
    "#             if area == 'TH' and j > 3:  # To account for missing layer 4 in TH\n",
    "#                 syn[i][j + 2] = value\n",
    "#             else:\n",
    "#                 syn[i][j] = value\n",
    "\n",
    "\n",
    "#     syn = np.transpose(syn)\n",
    "#     masked_syn = np.ma.masked_where(syn < 1e-4, syn)\n",
    "\n",
    "#     ax = axes['E']\n",
    "#     d = ax.boxplot(np.transpose(syn), vert=False,\n",
    "#                 patch_artist=True, whis=1.5, showmeans=True)\n",
    "#     set_boxplot_props(d)\n",
    "\n",
    "#     ax.plot(np.mean(syn, axis=1), np.arange(\n",
    "#         1., len(M.structure['V1']) + 1., 1.), 'x', color='k', markersize=3)\n",
    "\n",
    "#     ax.set_yticklabels(population_labels[::-1], size=8)\n",
    "#     ax.set_yticks(np.arange(1., len(M.structure['V1']) + 1., 1.))\n",
    "#     # ax.set_ylim((0., len(M.structure['V1']) + .5))\n",
    "#     ax.set_xticks(np.arange(0.0, 0.601, 0.2))\n",
    "#     # ax.set_xlabel('Correlation coefficient', labelpad=-0.1)\n",
    "\n",
    "\n",
    "#     print(\"plotting Irregularity\")\n",
    "\n",
    "#     LvR = np.zeros((len(M.area_list), 8))\n",
    "#     for i, area in enumerate(M.area_list):\n",
    "#         for j, pop in enumerate(M.structure[area][::-1]):\n",
    "#             value = pop_LvR[area][pop]\n",
    "#             if value == 0.0:\n",
    "#                 value = 1e-5\n",
    "#             if area == 'TH' and j > 3:  # To account for missing layer 4 in TH\n",
    "#                 LvR[i][j + 2] = value\n",
    "#             else:\n",
    "#                 LvR[i][j] = value\n",
    "\n",
    "#     LvR = np.transpose(LvR)\n",
    "#     masked_LvR = np.ma.masked_where(LvR < 1e-4, LvR)\n",
    "\n",
    "#     ax = axes['F']\n",
    "#     d = ax.boxplot(np.transpose(LvR), vert=False,\n",
    "#                 patch_artist=True, whis=1.5, showmeans=True)\n",
    "#     set_boxplot_props(d)\n",
    "\n",
    "#     ax.plot(np.mean(LvR, axis=1), np.arange(\n",
    "#         1., len(M.structure['V1']) + 1., 1.), 'x', color='k', markersize=3)\n",
    "#     # ax.set_yticklabels(population_labels[::-1], size=8)\n",
    "#     ax.set_yticks(np.arange(1., len(M.structure['V1']) + 1., 1.))\n",
    "#     ax.set_ylim((0., len(M.structure['V1']) + .5))\n",
    "\n",
    "\n",
    "#     x_max = 2.9\n",
    "#     # ax.set_xlim((0., x_max))\n",
    "#     # ax.set_xlabel('Irregularity', labelpad=-0.1)\n",
    "#     # ax.set_xticks([0., 1., 2.])\n",
    "\n",
    "#     axes['G'].spines['right'].set_color('none')\n",
    "#     axes['G'].spines['left'].set_color('none')\n",
    "#     axes['G'].spines['top'].set_color('none')\n",
    "#     axes['G'].spines['bottom'].set_color('none')\n",
    "#     axes['G'].yaxis.set_ticks_position(\"none\")\n",
    "#     axes['G'].xaxis.set_ticks_position(\"none\")\n",
    "#     axes['G'].set_xticks([])\n",
    "#     axes['G'].set_yticks([])\n",
    "\n",
    "\n",
    "#     print(\"Plotting rate time series\")\n",
    "#     pos = axes['G'].get_position()\n",
    "#     ax = []\n",
    "#     h = pos.y1 - pos.y0\n",
    "#     w = pos.x1 - pos.x0\n",
    "#     ax.append(pl.axes([pos.x0, pos.y0, w, 0.28 * h]))\n",
    "#     ax.append(pl.axes([pos.x0, pos.y0 + 0.33 * h, w, 0.28 * h]))\n",
    "#     ax.append(pl.axes([pos.x0, pos.y0 + 0.67 * h, w, 0.28 * h]))\n",
    "\n",
    "#     colors = ['0.5', '0.3', '0.0']\n",
    "\n",
    "#     t_min = 0.\n",
    "#     t_max = 2000.\n",
    "#     time = np.arange(500., t_max)\n",
    "#     for i, area in enumerate(areas[::-1]):\n",
    "#         ax[i].spines['right'].set_color('none')\n",
    "#         ax[i].spines['top'].set_color('none')\n",
    "#         ax[i].yaxis.set_ticks_position(\"left\")\n",
    "#         ax[i].xaxis.set_ticks_position(\"none\")\n",
    "\n",
    "#         binned_spikes = rate_time_series[area][np.where(\n",
    "#             np.logical_and(time >= t_min, time < t_max))]\n",
    "#         ax[i].plot(time, binned_spikes, color=colors[0], label=area)\n",
    "#         # rate = rate_time_series_auto_kernel[area]\n",
    "#         rate = rate_time_series[area]\n",
    "#         ax[i].plot(time, rate, color=colors[2], label=area)\n",
    "#         # ax[i].set_xlim((500., t_max))\n",
    "\n",
    "#         # ax[i].text(0.8, 0.7, area, transform=ax[i].transAxes)\n",
    "\n",
    "#         # if i > 0:\n",
    "#         #     ax[i].spines['bottom'].set_color('none')\n",
    "#         #     ax[i].set_xticks([])\n",
    "#         #     ax[i].set_yticks([0., 30.])\n",
    "#         # else:\n",
    "#         #     ax[i].set_xticks([1000., 5000., 10000.])\n",
    "#         #     ax[i].set_xticklabels([r'1.', r'5.', r'10.'])\n",
    "#         #     ax[i].set_yticks([0., 5.])\n",
    "#         # if i == 1:\n",
    "#         #     ax[i].set_ylabel('Rate (spikes/s)')\n",
    "    \n",
    "#     # ax[0].set_xlabel('Time (s)', labelpad=-0.05)\n",
    "    \n",
    "#     fig.subplots_adjust(left=0.05, right=0.95, top=0.95,\n",
    "#                     bottom=0.075, wspace=1., hspace=.5)\n",
    "\n",
    "#     # pl.legend()"
   ]
  },
  {
   "cell_type": "code",
   "execution_count": 27,
   "id": "ae19bcc3",
   "metadata": {
    "tags": []
   },
   "outputs": [],
   "source": [
    "# # from MAM2EBRAINS import plot_resting_state\n",
    "# label_spikes = M.simulation.label\n",
    "# label = M.simulation.label\n",
    "# print(label)\n",
    "# plot_resting_state(A, label_spikes, label)"
   ]
  },
  {
   "cell_type": "markdown",
   "id": "3ef52a7c",
   "metadata": {
    "tags": []
   },
   "source": [
    "### 5.2 Raster plot of spiking activity for single area <a class=\"anchor\" id=\"section_5_2\"></a>"
   ]
  },
  {
   "cell_type": "code",
   "execution_count": 28,
   "id": "1da18fee",
   "metadata": {},
   "outputs": [],
   "source": [
    "# M2E.plot_raster_plot(A)"
   ]
  },
  {
   "cell_type": "code",
   "execution_count": 29,
   "id": "7d5a5e32-bd12-4e91-a65d-91d279edc450",
   "metadata": {},
   "outputs": [],
   "source": [
    "# load spike data\n",
    "spike_data = A.spike_data"
   ]
  },
  {
   "cell_type": "code",
   "execution_count": 30,
   "id": "7947fea3-ba4c-4b1d-94fc-16614e4e4a11",
   "metadata": {},
   "outputs": [
    {
     "ename": "NameError",
     "evalue": "name 'population_labels' is not defined",
     "output_type": "error",
     "traceback": [
      "\u001b[0;31m---------------------------------------------------------------------------\u001b[0m",
      "\u001b[0;31mNameError\u001b[0m                                 Traceback (most recent call last)",
      "Input \u001b[0;32mIn [30]\u001b[0m, in \u001b[0;36m<module>\u001b[0;34m\u001b[0m\n\u001b[1;32m     45\u001b[0m \u001b[38;5;28;01mif\u001b[39;00m pop[\u001b[38;5;241m0\u001b[39m:\u001b[38;5;241m-\u001b[39m\u001b[38;5;241m1\u001b[39m] \u001b[38;5;241m!=\u001b[39m prev_pop:\n\u001b[1;32m     46\u001b[0m     prev_pop \u001b[38;5;241m=\u001b[39m pop[\u001b[38;5;241m0\u001b[39m:\u001b[38;5;241m-\u001b[39m\u001b[38;5;241m1\u001b[39m]\n\u001b[0;32m---> 47\u001b[0m     yticks\u001b[38;5;241m.\u001b[39mappend(\u001b[38;5;124m'\u001b[39m\u001b[38;5;124mL\u001b[39m\u001b[38;5;124m'\u001b[39m \u001b[38;5;241m+\u001b[39m \u001b[43mpopulation_labels\u001b[49m[jj][\u001b[38;5;241m0\u001b[39m:\u001b[38;5;241m-\u001b[39m\u001b[38;5;241m1\u001b[39m])\n\u001b[1;32m     48\u001b[0m     yticklocs\u001b[38;5;241m.\u001b[39mappend(offset \u001b[38;5;241m-\u001b[39m \u001b[38;5;241m0.5\u001b[39m \u001b[38;5;241m*\u001b[39m n_to_plot[pop])\n\u001b[1;32m     49\u001b[0m ind \u001b[38;5;241m=\u001b[39m np\u001b[38;5;241m.\u001b[39mwhere(np\u001b[38;5;241m.\u001b[39mlogical_and(\n\u001b[1;32m     50\u001b[0m     spike_data[area][pop][:, \u001b[38;5;241m1\u001b[39m] \u001b[38;5;241m<\u001b[39m\u001b[38;5;241m=\u001b[39m t_max, spike_data[area][pop][:, \u001b[38;5;241m1\u001b[39m] \u001b[38;5;241m>\u001b[39m\u001b[38;5;241m=\u001b[39m t_min))\n",
      "\u001b[0;31mNameError\u001b[0m: name 'population_labels' is not defined"
     ]
    },
    {
     "data": {
      "image/png": "[encoded data removed]",
      "text/plain": [
       "<Figure size 720x216 with 1 Axes>"
      ]
     },
     "metadata": {
      "needs_background": "light"
     },
     "output_type": "display_data"
    }
   ],
   "source": [
    "# plotting raster plot of spiking activity for single area\n",
    "from matplotlib import gridspec\n",
    "# axes = {}\n",
    "# gs1 = gridspec.GridSpec(1, 3)\n",
    "# # gs1.update(left=0.06, right=0.72, top=0.95, wspace=0.4, bottom=0.35)\n",
    "# axes['A'] = plt.subplot(gs1[:1, :1], figsize=(16,9), gridspec_kw={'height_ratios': [1, 2]})\n",
    "# axes['B'] = plt.subplot(gs1[:1, 1:2])\n",
    "# axes['C'] = plt.subplot(gs1[:1, 2:])\n",
    "f = plt.figure(figsize=(10,3))\n",
    "sub = [131, 132, 133]\n",
    "\n",
    "areas = ['V1', 'V2', 'FEF']\n",
    "labels = ['A', 'B', 'C']\n",
    "\n",
    "t_min = 0.\n",
    "t_max = 500.\n",
    "# t_min = 3000.\n",
    "# t_max = 3500.\n",
    "\n",
    "# icolor = myred\n",
    "# ecolor = myblue\n",
    "\n",
    "# frac_neurons = 0.03\n",
    "frac_neurons = 0.3\n",
    "\n",
    "for i, area in enumerate(areas):\n",
    "    # ax = axes[labels[i]]\n",
    "    # ax = plt.subplot()\n",
    "    ax = f.add_subplot(sub[i])\n",
    "\n",
    "    if area in spike_data:\n",
    "        n_pops = len(spike_data[area])\n",
    "        # Determine number of neurons that will be plotted for this area (for\n",
    "        # vertical offset)\n",
    "        offset = 0\n",
    "        n_to_plot = {}\n",
    "        for pop in M.structure[area]:\n",
    "            n_to_plot[pop] = int(M.N[area][pop] * frac_neurons)\n",
    "            offset = offset + n_to_plot[pop]\n",
    "        y_max = offset + 1\n",
    "        prev_pop = ''\n",
    "        yticks = []\n",
    "        yticklocs = []\n",
    "        for jj, pop in enumerate(M.structure[area]):\n",
    "            if pop[0:-1] != prev_pop:\n",
    "                prev_pop = pop[0:-1]\n",
    "                yticks.append('L' + population_labels[jj][0:-1])\n",
    "                yticklocs.append(offset - 0.5 * n_to_plot[pop])\n",
    "            ind = np.where(np.logical_and(\n",
    "                spike_data[area][pop][:, 1] <= t_max, spike_data[area][pop][:, 1] >= t_min))\n",
    "            pop_data = spike_data[area][pop][ind]\n",
    "            pop_neurons = np.unique(pop_data[:, 0])\n",
    "            neurons_to_ = np.arange(np.min(spike_data[area][pop][:, 0]), np.min(\n",
    "                spike_data[area][pop][:, 0]) + n_to_plot[pop], 1)\n",
    "\n",
    "            if pop.find('E') > (-1):\n",
    "                pcolor = ecolor\n",
    "            else:\n",
    "                pcolor = icolor\n",
    "\n",
    "            for kk in range(n_to_plot[pop]):\n",
    "                spike_times = pop_data[pop_data[:, 0] == neurons_to_[kk], 1]\n",
    "\n",
    "                _ = ax.plot(spike_times, np.zeros(len(spike_times)) +\n",
    "                            offset - kk, '.', color=pcolor, markersize=1)\n",
    "            offset = offset - n_to_plot[pop]\n",
    "        y_min = offset\n",
    "        ax.set_title(areas[i])\n",
    "        ax.set_xlim([t_min, t_max])\n",
    "        ax.set_ylim([y_min, y_max])\n",
    "        ax.set_yticklabels(yticks)\n",
    "        ax.set_yticks(yticklocs)\n",
    "        ax.set_xlabel('Time (s)', labelpad=-0.1)\n",
    "        ax.set_xticks([t_min, t_min + 250., t_max])\n",
    "        ax.set_xticklabels([r'$3.$', r'$3.25$', r'$3.5$'])\n"
   ]
  },
  {
   "cell_type": "markdown",
   "id": "019d805e",
   "metadata": {
    "tags": []
   },
   "source": [
    "### 5.3 Population-averaged firing rates <a class=\"anchor\" id=\"section_5_3\"></a>"
   ]
  },
  {
   "cell_type": "code",
   "execution_count": null,
   "id": "b069bc59-44ae-450a-b0a5-b073951e3604",
   "metadata": {},
   "outputs": [],
   "source": [
    "# load data\n",
    "\n",
    "# stationary firing rates\n",
    "fn = os.path.join(data_path, label, 'Analysis', 'pop_rates.json')\n",
    "with open(fn, 'r') as f:\n",
    "    pop_rates = json.load(f)"
   ]
  },
  {
   "cell_type": "code",
   "execution_count": null,
   "id": "96baac8f-3a0e-4d69-92ac-1d7cb4aff0d8",
   "metadata": {},
   "outputs": [],
   "source": [
    "def set_boxplot_props(d):\n",
    "    for i in range(len(d['boxes'])):\n",
    "        if i % 2 == 0:\n",
    "            d['boxes'][i].set_facecolor(icolor)\n",
    "            d['boxes'][i].set_color(icolor)\n",
    "        else:\n",
    "            d['boxes'][i].set_facecolor(ecolor)\n",
    "            d['boxes'][i].set_color(ecolor)\n",
    "    plt.setp(d['whiskers'], color='k')\n",
    "    plt.setp(d['fliers'], color='k', markerfacecolor='k', marker='+')\n",
    "    plt.setp(d['medians'], color='none')\n",
    "    plt.setp(d['caps'], color='k')\n",
    "    plt.setp(d['means'], marker='x', color='k',\n",
    "            markerfacecolor='k', markeredgecolor='k', markersize=3.)\n",
    "    \n",
    "# print(\"plotting Population rates\")\n",
    "\n",
    "rates = np.zeros((len(M.area_list), 8))\n",
    "for i, area in enumerate(M.area_list):\n",
    "    for j, pop in enumerate(M.structure[area][::-1]):\n",
    "        rate = pop_rates[area][pop][0]\n",
    "        if rate == 0.0:\n",
    "            rate = 1e-5\n",
    "        if area == 'TH' and j > 3:  # To account for missing layer 4 in TH\n",
    "            rates[i][j + 2] = rate\n",
    "        else:\n",
    "            rates[i][j] = rate\n",
    "\n",
    "\n",
    "rates = np.transpose(rates)\n",
    "masked_rates = np.ma.masked_where(rates < 1e-4, rates)\n",
    "\n",
    "# ax = axes['D']\n",
    "ax = plt.subplot()\n",
    "d = plt.boxplot(np.transpose(rates), vert=False,\n",
    "               patch_artist=True, whis=1.5, showmeans=True)\n",
    "set_boxplot_props(d)\n",
    "\n",
    "ax.plot(np.mean(rates, axis=1), np.arange(\n",
    "    1., len(M.structure['V1']) + 1., 1.), 'x', color='k', markersize=3)\n",
    "\n",
    "ax.set_yticklabels(population_labels[::-1], size=8)\n",
    "ax.set_yticks(np.arange(1., len(M.structure['V1']) + 1., 1.))\n",
    "ax.set_ylim((0., len(M.structure['V1']) + .5))\n",
    "\n",
    "x_max = 100.\n",
    "ax.set_title(\"Population-averaged firing rates\")\n",
    "ax.set_xlim((-1., x_max))\n",
    "ax.set_xlabel(r'Rate (spikes/s)', labelpad=-0.1)\n",
    "ax.set_xticks([0., 50.])"
   ]
  },
  {
   "cell_type": "markdown",
   "id": "473d0882-8e45-4330-bfa2-2c7e1af0dac4",
   "metadata": {
    "jp-MarkdownHeadingCollapsed": true,
    "tags": []
   },
   "source": [
    "### 5.4 Time-averaged population rates <a class=\"anchor\" id=\"section_5_4\"></a>"
   ]
  },
  {
   "cell_type": "code",
   "execution_count": null,
   "id": "721d1f03-df25-468d-8075-a807025a9c58",
   "metadata": {},
   "outputs": [],
   "source": [
    "\"\"\"\n",
    "Plot overview over time-averaged population rates encoded in colors\n",
    "with areas along x-axis and populations along y-axis.\n",
    "\n",
    "Parameters\n",
    "----------\n",
    "area_list : list, optional\n",
    "   Specifies with areas are plotted in which order.\n",
    "   Default to None, leading to plotting of  all areas ordered by architectural type.\n",
    "output : {'pdf', 'png', 'eps'}, optional\n",
    "    If given, the function stores the plot to a file of the given format.\n",
    "\"\"\"\n",
    "A.show_rates()"
   ]
  },
  {
   "cell_type": "markdown",
   "id": "06a595de",
   "metadata": {
    "tags": []
   },
   "source": [
    "### 5.5 Average pairwise correlation coefficients of spiking activity <a class=\"anchor\" id=\"section_5_5\"></a>"
   ]
  },
  {
   "cell_type": "code",
   "execution_count": null,
   "id": "a8e77836-4c37-4b78-b7c4-5e11bc67b4fa",
   "metadata": {},
   "outputs": [],
   "source": [
    "# load data\n",
    "\n",
    "# correlation coefficients\n",
    "# fn = os.path.join(data_path, label, 'Analysis', 'corrcoeff.json')\n",
    "fn = os.path.join(data_path, label, 'Analysis', 'synchrony.json')\n",
    "# synchrony.json\n",
    "with open(fn, 'r') as f:\n",
    "    corrcoeff = json.load(f)"
   ]
  },
  {
   "cell_type": "code",
   "execution_count": null,
   "id": "218367da-82ef-47b6-bf15-083ef3d43013",
   "metadata": {},
   "outputs": [],
   "source": [
    "# print(\"plotting Synchrony\")\n",
    "\n",
    "syn = np.zeros((len(M.area_list), 8))\n",
    "for i, area in enumerate(M.area_list):\n",
    "    for j, pop in enumerate(M.structure[area][::-1]):\n",
    "        value = corrcoeff[area][pop]\n",
    "        if value == 0.0:\n",
    "            value = 1e-5\n",
    "        if area == 'TH' and j > 3:  # To account for missing layer 4 in TH\n",
    "            syn[i][j + 2] = value\n",
    "        else:\n",
    "            syn[i][j] = value\n",
    "\n",
    "\n",
    "syn = np.transpose(syn)\n",
    "masked_syn = np.ma.masked_where(syn < 1e-4, syn)\n",
    "\n",
    "# ax = axes['E']\n",
    "ax = plt.subplot()\n",
    "d = ax.boxplot(np.transpose(syn), vert=False,\n",
    "               patch_artist=True, whis=1.5, showmeans=True)\n",
    "set_boxplot_props(d)\n",
    "\n",
    "ax.plot(np.mean(syn, axis=1), np.arange(\n",
    "    1., len(M.structure['V1']) + 1., 1.), 'x', color='k', markersize=3)\n",
    "\n",
    "ax.set_yticklabels(population_labels[::-1], size=8)\n",
    "ax.set_yticks(np.arange(1., len(M.structure['V1']) + 1., 1.))\n",
    "ax.set_ylim((0., len(M.structure['V1']) + .5))\n",
    "# ax.set_xticks(np.arange(0.0, 0.601, 0.2))\n",
    "ax.set_xticks(np.arange(0.0, 10.0, 2.0))\n",
    "ax.set_xlabel('Correlation coefficient', labelpad=-0.1)"
   ]
  },
  {
   "cell_type": "markdown",
   "id": "a3847e67",
   "metadata": {
    "jp-MarkdownHeadingCollapsed": true,
    "tags": []
   },
   "source": [
    "### 5.6 Irregularity of spiking activity <a class=\"anchor\" id=\"section_5_6\"></a>"
   ]
  },
  {
   "cell_type": "code",
   "execution_count": null,
   "id": "65377033-f3c0-4f90-be13-70594cfda292",
   "metadata": {},
   "outputs": [],
   "source": [
    "# load data\n",
    "\n",
    "# local variance revised (LvR)\n",
    "fn = os.path.join(data_path, label, 'Analysis', 'pop_LvR.json')\n",
    "with open(fn, 'r') as f:\n",
    "    pop_LvR = json.load(f)"
   ]
  },
  {
   "cell_type": "code",
   "execution_count": null,
   "id": "d7480a9b",
   "metadata": {},
   "outputs": [],
   "source": [
    "# print(\"plotting Irregularity\")\n",
    "\n",
    "LvR = np.zeros((len(M.area_list), 8))\n",
    "for i, area in enumerate(M.area_list):\n",
    "    for j, pop in enumerate(M.structure[area][::-1]):\n",
    "        value = pop_LvR[area][pop]\n",
    "        if value == 0.0:\n",
    "            value = 1e-5\n",
    "        if area == 'TH' and j > 3:  # To account for missing layer 4 in TH\n",
    "            LvR[i][j + 2] = value\n",
    "        else:\n",
    "            LvR[i][j] = value\n",
    "\n",
    "LvR = np.transpose(LvR)\n",
    "masked_LvR = np.ma.masked_where(LvR < 1e-4, LvR)\n",
    "\n",
    "# ax = axes['F']\n",
    "ax = plt.subplot()\n",
    "d = ax.boxplot(np.transpose(LvR), vert=False,\n",
    "               patch_artist=True, whis=1.5, showmeans=True)\n",
    "set_boxplot_props(d)\n",
    "\n",
    "ax.plot(np.mean(LvR, axis=1), np.arange(\n",
    "    1., len(M.structure['V1']) + 1., 1.), 'x', color='k', markersize=3)\n",
    "ax.set_yticklabels(population_labels[::-1], size=8)\n",
    "ax.set_yticks(np.arange(1., len(M.structure['V1']) + 1., 1.))\n",
    "ax.set_ylim((0., len(M.structure['V1']) + .5))\n",
    "\n",
    "\n",
    "x_max = 1.9\n",
    "ax.set_xlim((0., x_max))\n",
    "ax.set_xlabel('Irregularity', labelpad=-0.1)\n",
    "ax.set_xticks([0., 1., 2.])\n",
    "\n",
    "# axes['G'].spines['right'].set_color('none')\n",
    "# axes['G'].spines['left'].set_color('none')\n",
    "# axes['G'].spines['top'].set_color('none')\n",
    "# axes['G'].spines['bottom'].set_color('none')\n",
    "# axes['G'].yaxis.set_ticks_position(\"none\")\n",
    "# axes['G'].xaxis.set_ticks_position(\"none\")\n",
    "# axes['G'].set_xticks([])\n",
    "# axes['G'].set_yticks([])"
   ]
  },
  {
   "cell_type": "markdown",
   "id": "90ae8f4c",
   "metadata": {
    "jp-MarkdownHeadingCollapsed": true,
    "tags": []
   },
   "source": [
    "### 5.7 Time series of area-averaged firing rates <a class=\"anchor\" id=\"section_5_7\"></a>"
   ]
  },
  {
   "cell_type": "code",
   "execution_count": null,
   "id": "0308d50a-1906-4860-9194-7f8664bd1f9d",
   "metadata": {},
   "outputs": [],
   "source": [
    "# load data\n",
    "\n",
    "# time series of firing rates\n",
    "rate_time_series = {}\n",
    "for area in areas:\n",
    "    fn = os.path.join(data_path, label,\n",
    "                      'Analysis',\n",
    "                      'rate_time_series_full',\n",
    "                      'rate_time_series_full_{}.npy'.format(area))\n",
    "    rate_time_series[area] = np.load(fn)\n",
    "\n",
    "# # time series of firing rates convolved with a kernel\n",
    "# rate_time_series_auto_kernel = {}\n",
    "# for area in areas:\n",
    "#     fn = os.path.join(data_path, label,\n",
    "#                       'Analysis',\n",
    "#                       'rate_time_series_auto_kernel',\n",
    "#                       'rate_time_series_auto_kernel_{}.npy'.format(area))\n",
    "#     rate_time_series_auto_kernel[area] = np.load(fn)"
   ]
  },
  {
   "cell_type": "code",
   "execution_count": null,
   "id": "4460d823-543a-482b-8ef1-a049e5837af4",
   "metadata": {},
   "outputs": [],
   "source": [
    "print(\"Plotting rate time series\")\n",
    "pos = axes['G'].get_position()\n",
    "ax = []\n",
    "h = pos.y1 - pos.y0\n",
    "w = pos.x1 - pos.x0\n",
    "ax.append(pl.axes([pos.x0, pos.y0, w, 0.28 * h]))\n",
    "ax.append(pl.axes([pos.x0, pos.y0 + 0.33 * h, w, 0.28 * h]))\n",
    "ax.append(pl.axes([pos.x0, pos.y0 + 0.67 * h, w, 0.28 * h]))\n",
    "\n",
    "colors = ['0.5', '0.3', '0.0']\n",
    "\n",
    "t_min = 500.\n",
    "t_max = 10500.\n",
    "time = np.arange(500., t_max)\n",
    "for i, area in enumerate(areas[::-1]):\n",
    "    ax[i].spines['right'].set_color('none')\n",
    "    ax[i].spines['top'].set_color('none')\n",
    "    ax[i].yaxis.set_ticks_position(\"left\")\n",
    "    ax[i].xaxis.set_ticks_position(\"none\")\n",
    "\n",
    "    binned_spikes = rate_time_series[area][np.where(\n",
    "        np.logical_and(time >= t_min, time < t_max))]\n",
    "    ax[i].plot(time, binned_spikes, color=colors[0], label=area)\n",
    "    rate = rate_time_series_auto_kernel[area]\n",
    "    ax[i].plot(time, rate, color=colors[2], label=area)\n",
    "    ax[i].set_xlim((500., t_max))\n",
    "\n",
    "    ax[i].text(0.8, 0.7, area, transform=ax[i].transAxes)\n",
    "\n",
    "    if i > 0:\n",
    "        ax[i].spines['bottom'].set_color('none')\n",
    "        ax[i].set_xticks([])\n",
    "        ax[i].set_yticks([0., 30.])\n",
    "    else:\n",
    "        ax[i].set_xticks([1000., 5000., 10000.])\n",
    "        ax[i].set_xticklabels([r'$1.$', r'$5.$', r'$10.$'])\n",
    "        ax[i].set_yticks([0., 5.])\n",
    "    if i == 1:\n",
    "        ax[i].set_ylabel(r'Rate (spikes/s)')\n",
    "\n",
    "ax[0].set_xlabel('Time (s)', labelpad=-0.05)"
   ]
  },
  {
   "cell_type": "markdown",
   "id": "ef74ca3e-98dc-49c9-a4a0-2c640e29b1d9",
   "metadata": {},
   "source": [
    "Go back to [Notebook structure](#toc)"
   ]
  }
 ],
 "metadata": {
  "kernelspec": {
   "display_name": "EBRAINS-23.02",
   "language": "python",
   "name": "ebrains-23.02"
  },
  "language_info": {
   "codemirror_mode": {
    "name": "ipython",
    "version": 3
   },
   "file_extension": ".py",
   "mimetype": "text/x-python",
   "name": "python",
   "nbconvert_exporter": "python",
   "pygments_lexer": "ipython3",
   "version": "3.8.11"
  }
 },
 "nbformat": 4,
 "nbformat_minor": 5
}
